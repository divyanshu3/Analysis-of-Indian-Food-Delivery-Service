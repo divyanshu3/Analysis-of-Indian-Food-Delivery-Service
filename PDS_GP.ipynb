{
  "cells": [
    {
      "cell_type": "code",
      "execution_count": 1,
      "metadata": {
        "id": "uxqJksQwG5i1"
      },
      "outputs": [],
      "source": [
        "import kagglehub"
      ]
    },
    {
      "cell_type": "code",
      "execution_count": 2,
      "metadata": {
        "colab": {
          "base_uri": "https://localhost:8080/"
        },
        "id": "J6-TVp3kzHS3",
        "outputId": "bba91e6d-8b49-463b-95d8-7d51dcc50332"
      },
      "outputs": [
        {
          "output_type": "stream",
          "name": "stdout",
          "text": [
            "Downloading from https://www.kaggle.com/api/v1/datasets/download/benroshan/online-food-delivery-preferencesbangalore-region?dataset_version_number=3...\n"
          ]
        },
        {
          "output_type": "stream",
          "name": "stderr",
          "text": [
            "100%|██████████| 24.0k/24.0k [00:00<00:00, 3.73MB/s]"
          ]
        },
        {
          "output_type": "stream",
          "name": "stdout",
          "text": [
            "Extracting files...\n",
            "Path to dataset files: /root/.cache/kagglehub/datasets/benroshan/online-food-delivery-preferencesbangalore-region/versions/3\n"
          ]
        },
        {
          "output_type": "stream",
          "name": "stderr",
          "text": [
            "\n"
          ]
        }
      ],
      "source": [
        "d2 = kagglehub.dataset_download(\"benroshan/online-food-delivery-preferencesbangalore-region\")\n",
        "\n",
        "print(\"Path to dataset files:\", d2)"
      ]
    },
    {
      "cell_type": "code",
      "execution_count": 3,
      "metadata": {
        "colab": {
          "base_uri": "https://localhost:8080/"
        },
        "id": "-aB_4ZJazYrH",
        "outputId": "6b41dc79-6823-48d4-ee51-c0a83b801aef"
      },
      "outputs": [
        {
          "output_type": "stream",
          "name": "stdout",
          "text": [
            "Downloading from https://www.kaggle.com/api/v1/datasets/download/saurabhbadole/zomato-delivery-operations-analytics-dataset?dataset_version_number=1...\n"
          ]
        },
        {
          "output_type": "stream",
          "name": "stderr",
          "text": [
            "100%|██████████| 1.43M/1.43M [00:00<00:00, 38.2MB/s]"
          ]
        },
        {
          "output_type": "stream",
          "name": "stdout",
          "text": [
            "Extracting files...\n"
          ]
        },
        {
          "output_type": "stream",
          "name": "stderr",
          "text": [
            "\n"
          ]
        },
        {
          "output_type": "stream",
          "name": "stdout",
          "text": [
            "Path to dataset files: /root/.cache/kagglehub/datasets/saurabhbadole/zomato-delivery-operations-analytics-dataset/versions/1\n"
          ]
        }
      ],
      "source": [
        "d5 = kagglehub.dataset_download(\"saurabhbadole/zomato-delivery-operations-analytics-dataset\")\n",
        "\n",
        "print(\"Path to dataset files:\", d5)"
      ]
    },
    {
      "cell_type": "markdown",
      "metadata": {
        "id": "LlKBTyLqFwvY"
      },
      "source": [
        "Cleaning Dataset D5"
      ]
    },
    {
      "cell_type": "code",
      "execution_count": 4,
      "metadata": {
        "id": "ugaI5S9zzgz0"
      },
      "outputs": [],
      "source": [
        "import pandas as pd\n",
        "df_5 = pd.read_csv(\"/root/.cache/kagglehub/datasets/saurabhbadole/zomato-delivery-operations-analytics-dataset/versions/1/Zomato Dataset.csv\")"
      ]
    },
    {
      "cell_type": "code",
      "execution_count": 5,
      "metadata": {
        "colab": {
          "base_uri": "https://localhost:8080/",
          "height": 711
        },
        "id": "PXniSfsqhCuZ",
        "outputId": "0039bbf4-e0c4-490b-d9f3-483ea9f2b2f4"
      },
      "outputs": [
        {
          "output_type": "execute_result",
          "data": {
            "text/plain": [
              "ID                             45584\n",
              "Delivery_person_ID             45584\n",
              "Delivery_person_Age            43730\n",
              "Delivery_person_Ratings        43676\n",
              "Restaurant_latitude            45584\n",
              "Restaurant_longitude           45584\n",
              "Delivery_location_latitude     45584\n",
              "Delivery_location_longitude    45584\n",
              "Order_Date                     45584\n",
              "Time_Orderd                    43853\n",
              "Time_Order_picked              45584\n",
              "Weather_conditions             44968\n",
              "Road_traffic_density           44983\n",
              "Vehicle_condition              45584\n",
              "Type_of_order                  45584\n",
              "Type_of_vehicle                45584\n",
              "multiple_deliveries            44591\n",
              "Festival                       45356\n",
              "City                           44384\n",
              "Time_taken (min)               45584\n",
              "dtype: int64"
            ],
            "text/html": [
              "<div>\n",
              "<style scoped>\n",
              "    .dataframe tbody tr th:only-of-type {\n",
              "        vertical-align: middle;\n",
              "    }\n",
              "\n",
              "    .dataframe tbody tr th {\n",
              "        vertical-align: top;\n",
              "    }\n",
              "\n",
              "    .dataframe thead th {\n",
              "        text-align: right;\n",
              "    }\n",
              "</style>\n",
              "<table border=\"1\" class=\"dataframe\">\n",
              "  <thead>\n",
              "    <tr style=\"text-align: right;\">\n",
              "      <th></th>\n",
              "      <th>0</th>\n",
              "    </tr>\n",
              "  </thead>\n",
              "  <tbody>\n",
              "    <tr>\n",
              "      <th>ID</th>\n",
              "      <td>45584</td>\n",
              "    </tr>\n",
              "    <tr>\n",
              "      <th>Delivery_person_ID</th>\n",
              "      <td>45584</td>\n",
              "    </tr>\n",
              "    <tr>\n",
              "      <th>Delivery_person_Age</th>\n",
              "      <td>43730</td>\n",
              "    </tr>\n",
              "    <tr>\n",
              "      <th>Delivery_person_Ratings</th>\n",
              "      <td>43676</td>\n",
              "    </tr>\n",
              "    <tr>\n",
              "      <th>Restaurant_latitude</th>\n",
              "      <td>45584</td>\n",
              "    </tr>\n",
              "    <tr>\n",
              "      <th>Restaurant_longitude</th>\n",
              "      <td>45584</td>\n",
              "    </tr>\n",
              "    <tr>\n",
              "      <th>Delivery_location_latitude</th>\n",
              "      <td>45584</td>\n",
              "    </tr>\n",
              "    <tr>\n",
              "      <th>Delivery_location_longitude</th>\n",
              "      <td>45584</td>\n",
              "    </tr>\n",
              "    <tr>\n",
              "      <th>Order_Date</th>\n",
              "      <td>45584</td>\n",
              "    </tr>\n",
              "    <tr>\n",
              "      <th>Time_Orderd</th>\n",
              "      <td>43853</td>\n",
              "    </tr>\n",
              "    <tr>\n",
              "      <th>Time_Order_picked</th>\n",
              "      <td>45584</td>\n",
              "    </tr>\n",
              "    <tr>\n",
              "      <th>Weather_conditions</th>\n",
              "      <td>44968</td>\n",
              "    </tr>\n",
              "    <tr>\n",
              "      <th>Road_traffic_density</th>\n",
              "      <td>44983</td>\n",
              "    </tr>\n",
              "    <tr>\n",
              "      <th>Vehicle_condition</th>\n",
              "      <td>45584</td>\n",
              "    </tr>\n",
              "    <tr>\n",
              "      <th>Type_of_order</th>\n",
              "      <td>45584</td>\n",
              "    </tr>\n",
              "    <tr>\n",
              "      <th>Type_of_vehicle</th>\n",
              "      <td>45584</td>\n",
              "    </tr>\n",
              "    <tr>\n",
              "      <th>multiple_deliveries</th>\n",
              "      <td>44591</td>\n",
              "    </tr>\n",
              "    <tr>\n",
              "      <th>Festival</th>\n",
              "      <td>45356</td>\n",
              "    </tr>\n",
              "    <tr>\n",
              "      <th>City</th>\n",
              "      <td>44384</td>\n",
              "    </tr>\n",
              "    <tr>\n",
              "      <th>Time_taken (min)</th>\n",
              "      <td>45584</td>\n",
              "    </tr>\n",
              "  </tbody>\n",
              "</table>\n",
              "</div><br><label><b>dtype:</b> int64</label>"
            ]
          },
          "metadata": {},
          "execution_count": 5
        }
      ],
      "source": [
        "df_5.count()"
      ]
    },
    {
      "cell_type": "markdown",
      "metadata": {
        "id": "rbxgwwqEF2s2"
      },
      "source": [
        "For column Time_Orderd, remove Nan, 0.x and 1 values:"
      ]
    },
    {
      "cell_type": "code",
      "execution_count": 6,
      "metadata": {
        "id": "X2VZhWkshbQY"
      },
      "outputs": [],
      "source": [
        "df_5 = df_5[~df_5['Time_Orderd'].apply(lambda x: isinstance(x, float) or '0.' in str(x) or str(x) == '1')]\n"
      ]
    },
    {
      "cell_type": "markdown",
      "metadata": {
        "id": "AFl1oUQCGAE6"
      },
      "source": [
        "For column Time_Order_picked, remove 0.x and 1 values:"
      ]
    },
    {
      "cell_type": "code",
      "execution_count": 7,
      "metadata": {
        "id": "IC2m281dif47"
      },
      "outputs": [],
      "source": [
        "df_5 = df_5[~df_5['Time_Order_picked'].apply(lambda x: '0.' in str(x) or str(x) == '1' or '24:' in str(x))]\n"
      ]
    },
    {
      "cell_type": "markdown",
      "source": [
        "Cleaning the Dataset which had nan values."
      ],
      "metadata": {
        "id": "BDTTgEcz1nCK"
      }
    },
    {
      "cell_type": "code",
      "execution_count": 8,
      "metadata": {
        "colab": {
          "base_uri": "https://localhost:8080/",
          "height": 711
        },
        "id": "_KIvoLeSkNxM",
        "outputId": "438df94e-dc06-42a5-e09e-9b901ae659e5"
      },
      "outputs": [
        {
          "output_type": "execute_result",
          "data": {
            "text/plain": [
              "ID                             33402\n",
              "Delivery_person_ID             33402\n",
              "Delivery_person_Age            33402\n",
              "Delivery_person_Ratings        33402\n",
              "Restaurant_latitude            33402\n",
              "Restaurant_longitude           33402\n",
              "Delivery_location_latitude     33402\n",
              "Delivery_location_longitude    33402\n",
              "Order_Date                     33402\n",
              "Time_Orderd                    33402\n",
              "Time_Order_picked              33402\n",
              "Weather_conditions             33402\n",
              "Road_traffic_density           33402\n",
              "Vehicle_condition              33402\n",
              "Type_of_order                  33402\n",
              "Type_of_vehicle                33402\n",
              "multiple_deliveries            33402\n",
              "Festival                       33402\n",
              "City                           33402\n",
              "Time_taken (min)               33402\n",
              "dtype: int64"
            ],
            "text/html": [
              "<div>\n",
              "<style scoped>\n",
              "    .dataframe tbody tr th:only-of-type {\n",
              "        vertical-align: middle;\n",
              "    }\n",
              "\n",
              "    .dataframe tbody tr th {\n",
              "        vertical-align: top;\n",
              "    }\n",
              "\n",
              "    .dataframe thead th {\n",
              "        text-align: right;\n",
              "    }\n",
              "</style>\n",
              "<table border=\"1\" class=\"dataframe\">\n",
              "  <thead>\n",
              "    <tr style=\"text-align: right;\">\n",
              "      <th></th>\n",
              "      <th>0</th>\n",
              "    </tr>\n",
              "  </thead>\n",
              "  <tbody>\n",
              "    <tr>\n",
              "      <th>ID</th>\n",
              "      <td>33402</td>\n",
              "    </tr>\n",
              "    <tr>\n",
              "      <th>Delivery_person_ID</th>\n",
              "      <td>33402</td>\n",
              "    </tr>\n",
              "    <tr>\n",
              "      <th>Delivery_person_Age</th>\n",
              "      <td>33402</td>\n",
              "    </tr>\n",
              "    <tr>\n",
              "      <th>Delivery_person_Ratings</th>\n",
              "      <td>33402</td>\n",
              "    </tr>\n",
              "    <tr>\n",
              "      <th>Restaurant_latitude</th>\n",
              "      <td>33402</td>\n",
              "    </tr>\n",
              "    <tr>\n",
              "      <th>Restaurant_longitude</th>\n",
              "      <td>33402</td>\n",
              "    </tr>\n",
              "    <tr>\n",
              "      <th>Delivery_location_latitude</th>\n",
              "      <td>33402</td>\n",
              "    </tr>\n",
              "    <tr>\n",
              "      <th>Delivery_location_longitude</th>\n",
              "      <td>33402</td>\n",
              "    </tr>\n",
              "    <tr>\n",
              "      <th>Order_Date</th>\n",
              "      <td>33402</td>\n",
              "    </tr>\n",
              "    <tr>\n",
              "      <th>Time_Orderd</th>\n",
              "      <td>33402</td>\n",
              "    </tr>\n",
              "    <tr>\n",
              "      <th>Time_Order_picked</th>\n",
              "      <td>33402</td>\n",
              "    </tr>\n",
              "    <tr>\n",
              "      <th>Weather_conditions</th>\n",
              "      <td>33402</td>\n",
              "    </tr>\n",
              "    <tr>\n",
              "      <th>Road_traffic_density</th>\n",
              "      <td>33402</td>\n",
              "    </tr>\n",
              "    <tr>\n",
              "      <th>Vehicle_condition</th>\n",
              "      <td>33402</td>\n",
              "    </tr>\n",
              "    <tr>\n",
              "      <th>Type_of_order</th>\n",
              "      <td>33402</td>\n",
              "    </tr>\n",
              "    <tr>\n",
              "      <th>Type_of_vehicle</th>\n",
              "      <td>33402</td>\n",
              "    </tr>\n",
              "    <tr>\n",
              "      <th>multiple_deliveries</th>\n",
              "      <td>33402</td>\n",
              "    </tr>\n",
              "    <tr>\n",
              "      <th>Festival</th>\n",
              "      <td>33402</td>\n",
              "    </tr>\n",
              "    <tr>\n",
              "      <th>City</th>\n",
              "      <td>33402</td>\n",
              "    </tr>\n",
              "    <tr>\n",
              "      <th>Time_taken (min)</th>\n",
              "      <td>33402</td>\n",
              "    </tr>\n",
              "  </tbody>\n",
              "</table>\n",
              "</div><br><label><b>dtype:</b> int64</label>"
            ]
          },
          "metadata": {},
          "execution_count": 8
        }
      ],
      "source": [
        "df_5_cleaned = df_5.dropna()\n",
        "df_5_cleaned.count()"
      ]
    },
    {
      "cell_type": "markdown",
      "metadata": {
        "id": "MXi0kwE7GLTM"
      },
      "source": [
        "D5 is now cleaned!"
      ]
    },
    {
      "cell_type": "markdown",
      "metadata": {
        "id": "-patbWJPGOmy"
      },
      "source": [
        "Now create a new dataset by simulation:"
      ]
    },
    {
      "cell_type": "markdown",
      "metadata": {
        "id": "28dc92s7HVGT"
      },
      "source": [
        "Generate 34326 values of date and time:"
      ]
    },
    {
      "cell_type": "code",
      "source": [
        "num_rows = 34326"
      ],
      "metadata": {
        "id": "bGWeN1rsJGVL"
      },
      "execution_count": 9,
      "outputs": []
    },
    {
      "cell_type": "code",
      "execution_count": 10,
      "metadata": {
        "colab": {
          "base_uri": "https://localhost:8080/"
        },
        "id": "gH4Y08UxkU8w",
        "outputId": "cdbb47ec-a858-4393-be43-9dd4759551d7"
      },
      "outputs": [
        {
          "output_type": "stream",
          "name": "stdout",
          "text": [
            "                 Date\n",
            "0 2023-02-20 18:26:34\n",
            "1 2024-01-21 07:17:11\n",
            "2 2023-06-12 07:38:10\n",
            "3 2023-12-10 15:26:28\n",
            "4 2024-01-11 21:21:22\n"
          ]
        }
      ],
      "source": [
        "import pandas as pd\n",
        "import numpy as np\n",
        "from datetime import datetime, timedelta\n",
        "# Define the start and end dates\n",
        "start_date = \"2022-04-01\"\n",
        "end_date = \"2024-03-31\"\n",
        "# Create a range of dates\n",
        "date_range = pd.date_range(start=start_date, end=end_date)\n",
        "# Sample random dates from the range\n",
        "random_dates = np.random.choice(date_range, size=num_rows, replace=True)\n",
        "# Create a DataFrame with the random dates\n",
        "df_5_new = pd.DataFrame(random_dates, columns=['Date'])\n",
        "# Add a random time component to each date\n",
        "df_5_new['Date'] = df_5_new['Date'] + pd.to_timedelta(np.random.randint(0, 24 * 60 * 60, size=len(df_5_new)), unit='s')\n",
        "print(df_5_new.head())\n",
        "# Optionally, save it to a CSV file\n",
        "df_5_new.to_csv(\"generated_dates.csv\", index=False)"
      ]
    },
    {
      "cell_type": "markdown",
      "metadata": {
        "id": "Y8cdcFlkHiPs"
      },
      "source": [
        "Split above generated data into 2 new columns Order_Date and Time_Orderd:"
      ]
    },
    {
      "cell_type": "code",
      "execution_count": 11,
      "metadata": {
        "id": "YBCWAUpwmTdW"
      },
      "outputs": [],
      "source": [
        "import pandas as pd\n",
        "\n",
        "# Assuming 'Date' column is already a datetime type\n",
        "\n",
        "# Extract date and time components using vectorized operations\n",
        "df_5_new['Order_Date'] = df_5_new['Date'].dt.strftime(\"%d-%m-%Y\")\n",
        "df_5_new['Time_Orderd'] = df_5_new['Date'].dt.strftime(\"%H:%M\")\n",
        "\n",
        "# Save to CSV\n",
        "df_5_new.to_csv(\"generated_dates.csv\", index=False)"
      ]
    },
    {
      "cell_type": "markdown",
      "metadata": {
        "id": "iejRf6qlHq_W"
      },
      "source": [
        "Drop existing column Date as it is not needed now:"
      ]
    },
    {
      "cell_type": "code",
      "execution_count": 12,
      "metadata": {
        "id": "F2NYv9MgoGWv"
      },
      "outputs": [],
      "source": [
        "df_5_new = df_5_new.drop('Date', axis=1)"
      ]
    },
    {
      "cell_type": "code",
      "execution_count": 13,
      "metadata": {
        "id": "3MOCa_lasP8Y"
      },
      "outputs": [],
      "source": [
        "df_5_new.to_csv(\"generated_dates.csv\", index=False)"
      ]
    },
    {
      "cell_type": "markdown",
      "metadata": {
        "id": "Sj8JcmyZH3rD"
      },
      "source": [
        "Generate new column Time_Order_picked based on Time_Orderd column:"
      ]
    },
    {
      "cell_type": "code",
      "execution_count": 14,
      "metadata": {
        "id": "lFzKctiqsa1F"
      },
      "outputs": [],
      "source": [
        "def add_random_minutes(time_str):\n",
        "    # Convert 'time_ordered' to a datetime object\n",
        "    time_obj = pd.to_datetime(time_str, format='%H:%M')\n",
        "\n",
        "    # Generate a random value between 5 and 30 (minutes)\n",
        "    random_minutes = np.random.randint(5, 31)\n",
        "\n",
        "    # Add the random minutes to the time\n",
        "    new_time_obj = time_obj + pd.Timedelta(minutes=random_minutes)\n",
        "\n",
        "    if new_time_obj.hour == 24:\n",
        "        new_time_obj = new_time_obj.replace(hour=0, minute=new_time_obj.minute)\n",
        "\n",
        "    # Return the new time as a string in HH:MM format\n",
        "    return new_time_obj.strftime('%H:%M')\n",
        "\n",
        "# Create a new column with the random added minutes\n",
        "df_5_new['Time_Order_picked'] = df_5_new['Time_Orderd'].apply(add_random_minutes)\n",
        "\n",
        "df_5_new.to_csv(\"generated_dates.csv\", index=False)"
      ]
    },
    {
      "cell_type": "markdown",
      "metadata": {
        "id": "N9JEIVy8ILRM"
      },
      "source": [
        "Generate new column Weather_conditions:"
      ]
    },
    {
      "cell_type": "code",
      "execution_count": 15,
      "metadata": {
        "id": "Lbzl5UOltppd"
      },
      "outputs": [],
      "source": [
        "\n",
        "# List of possible weather conditions\n",
        "weather_conditions = ['Windy', 'Fog', 'Storm', 'Sandstorm', 'Rainy', 'Cloudy']\n",
        "\n",
        "# Randomly assign weather conditions to the 'weather' column\n",
        "df_5_new['Weather_conditions'] = np.random.choice(weather_conditions, size = num_rows)\n",
        "\n",
        "df_5_new.to_csv(\"generated_dates.csv\", index=False)\n"
      ]
    },
    {
      "cell_type": "code",
      "execution_count": 16,
      "metadata": {
        "colab": {
          "base_uri": "https://localhost:8080/",
          "height": 206
        },
        "id": "XKJaXWt3I-G9",
        "outputId": "f4f25888-79fb-4624-ff3b-90ba5b0404b9"
      },
      "outputs": [
        {
          "output_type": "execute_result",
          "data": {
            "text/plain": [
              "   Order_Date Time_Orderd Time_Order_picked Weather_conditions\n",
              "0  20-02-2023       18:26             18:44              Windy\n",
              "1  21-01-2024       07:17             07:38              Windy\n",
              "2  12-06-2023       07:38             07:46              Windy\n",
              "3  10-12-2023       15:26             15:43              Storm\n",
              "4  11-01-2024       21:21             21:44             Cloudy"
            ],
            "text/html": [
              "\n",
              "  <div id=\"df-4f6aba85-1c31-4e77-b49a-530264dbdf87\" class=\"colab-df-container\">\n",
              "    <div>\n",
              "<style scoped>\n",
              "    .dataframe tbody tr th:only-of-type {\n",
              "        vertical-align: middle;\n",
              "    }\n",
              "\n",
              "    .dataframe tbody tr th {\n",
              "        vertical-align: top;\n",
              "    }\n",
              "\n",
              "    .dataframe thead th {\n",
              "        text-align: right;\n",
              "    }\n",
              "</style>\n",
              "<table border=\"1\" class=\"dataframe\">\n",
              "  <thead>\n",
              "    <tr style=\"text-align: right;\">\n",
              "      <th></th>\n",
              "      <th>Order_Date</th>\n",
              "      <th>Time_Orderd</th>\n",
              "      <th>Time_Order_picked</th>\n",
              "      <th>Weather_conditions</th>\n",
              "    </tr>\n",
              "  </thead>\n",
              "  <tbody>\n",
              "    <tr>\n",
              "      <th>0</th>\n",
              "      <td>20-02-2023</td>\n",
              "      <td>18:26</td>\n",
              "      <td>18:44</td>\n",
              "      <td>Windy</td>\n",
              "    </tr>\n",
              "    <tr>\n",
              "      <th>1</th>\n",
              "      <td>21-01-2024</td>\n",
              "      <td>07:17</td>\n",
              "      <td>07:38</td>\n",
              "      <td>Windy</td>\n",
              "    </tr>\n",
              "    <tr>\n",
              "      <th>2</th>\n",
              "      <td>12-06-2023</td>\n",
              "      <td>07:38</td>\n",
              "      <td>07:46</td>\n",
              "      <td>Windy</td>\n",
              "    </tr>\n",
              "    <tr>\n",
              "      <th>3</th>\n",
              "      <td>10-12-2023</td>\n",
              "      <td>15:26</td>\n",
              "      <td>15:43</td>\n",
              "      <td>Storm</td>\n",
              "    </tr>\n",
              "    <tr>\n",
              "      <th>4</th>\n",
              "      <td>11-01-2024</td>\n",
              "      <td>21:21</td>\n",
              "      <td>21:44</td>\n",
              "      <td>Cloudy</td>\n",
              "    </tr>\n",
              "  </tbody>\n",
              "</table>\n",
              "</div>\n",
              "    <div class=\"colab-df-buttons\">\n",
              "\n",
              "  <div class=\"colab-df-container\">\n",
              "    <button class=\"colab-df-convert\" onclick=\"convertToInteractive('df-4f6aba85-1c31-4e77-b49a-530264dbdf87')\"\n",
              "            title=\"Convert this dataframe to an interactive table.\"\n",
              "            style=\"display:none;\">\n",
              "\n",
              "  <svg xmlns=\"http://www.w3.org/2000/svg\" height=\"24px\" viewBox=\"0 -960 960 960\">\n",
              "    <path d=\"M120-120v-720h720v720H120Zm60-500h600v-160H180v160Zm220 220h160v-160H400v160Zm0 220h160v-160H400v160ZM180-400h160v-160H180v160Zm440 0h160v-160H620v160ZM180-180h160v-160H180v160Zm440 0h160v-160H620v160Z\"/>\n",
              "  </svg>\n",
              "    </button>\n",
              "\n",
              "  <style>\n",
              "    .colab-df-container {\n",
              "      display:flex;\n",
              "      gap: 12px;\n",
              "    }\n",
              "\n",
              "    .colab-df-convert {\n",
              "      background-color: #E8F0FE;\n",
              "      border: none;\n",
              "      border-radius: 50%;\n",
              "      cursor: pointer;\n",
              "      display: none;\n",
              "      fill: #1967D2;\n",
              "      height: 32px;\n",
              "      padding: 0 0 0 0;\n",
              "      width: 32px;\n",
              "    }\n",
              "\n",
              "    .colab-df-convert:hover {\n",
              "      background-color: #E2EBFA;\n",
              "      box-shadow: 0px 1px 2px rgba(60, 64, 67, 0.3), 0px 1px 3px 1px rgba(60, 64, 67, 0.15);\n",
              "      fill: #174EA6;\n",
              "    }\n",
              "\n",
              "    .colab-df-buttons div {\n",
              "      margin-bottom: 4px;\n",
              "    }\n",
              "\n",
              "    [theme=dark] .colab-df-convert {\n",
              "      background-color: #3B4455;\n",
              "      fill: #D2E3FC;\n",
              "    }\n",
              "\n",
              "    [theme=dark] .colab-df-convert:hover {\n",
              "      background-color: #434B5C;\n",
              "      box-shadow: 0px 1px 3px 1px rgba(0, 0, 0, 0.15);\n",
              "      filter: drop-shadow(0px 1px 2px rgba(0, 0, 0, 0.3));\n",
              "      fill: #FFFFFF;\n",
              "    }\n",
              "  </style>\n",
              "\n",
              "    <script>\n",
              "      const buttonEl =\n",
              "        document.querySelector('#df-4f6aba85-1c31-4e77-b49a-530264dbdf87 button.colab-df-convert');\n",
              "      buttonEl.style.display =\n",
              "        google.colab.kernel.accessAllowed ? 'block' : 'none';\n",
              "\n",
              "      async function convertToInteractive(key) {\n",
              "        const element = document.querySelector('#df-4f6aba85-1c31-4e77-b49a-530264dbdf87');\n",
              "        const dataTable =\n",
              "          await google.colab.kernel.invokeFunction('convertToInteractive',\n",
              "                                                    [key], {});\n",
              "        if (!dataTable) return;\n",
              "\n",
              "        const docLinkHtml = 'Like what you see? Visit the ' +\n",
              "          '<a target=\"_blank\" href=https://colab.research.google.com/notebooks/data_table.ipynb>data table notebook</a>'\n",
              "          + ' to learn more about interactive tables.';\n",
              "        element.innerHTML = '';\n",
              "        dataTable['output_type'] = 'display_data';\n",
              "        await google.colab.output.renderOutput(dataTable, element);\n",
              "        const docLink = document.createElement('div');\n",
              "        docLink.innerHTML = docLinkHtml;\n",
              "        element.appendChild(docLink);\n",
              "      }\n",
              "    </script>\n",
              "  </div>\n",
              "\n",
              "\n",
              "<div id=\"df-f7c08a10-ee32-4f05-b8f2-7874b75ad3a1\">\n",
              "  <button class=\"colab-df-quickchart\" onclick=\"quickchart('df-f7c08a10-ee32-4f05-b8f2-7874b75ad3a1')\"\n",
              "            title=\"Suggest charts\"\n",
              "            style=\"display:none;\">\n",
              "\n",
              "<svg xmlns=\"http://www.w3.org/2000/svg\" height=\"24px\"viewBox=\"0 0 24 24\"\n",
              "     width=\"24px\">\n",
              "    <g>\n",
              "        <path d=\"M19 3H5c-1.1 0-2 .9-2 2v14c0 1.1.9 2 2 2h14c1.1 0 2-.9 2-2V5c0-1.1-.9-2-2-2zM9 17H7v-7h2v7zm4 0h-2V7h2v10zm4 0h-2v-4h2v4z\"/>\n",
              "    </g>\n",
              "</svg>\n",
              "  </button>\n",
              "\n",
              "<style>\n",
              "  .colab-df-quickchart {\n",
              "      --bg-color: #E8F0FE;\n",
              "      --fill-color: #1967D2;\n",
              "      --hover-bg-color: #E2EBFA;\n",
              "      --hover-fill-color: #174EA6;\n",
              "      --disabled-fill-color: #AAA;\n",
              "      --disabled-bg-color: #DDD;\n",
              "  }\n",
              "\n",
              "  [theme=dark] .colab-df-quickchart {\n",
              "      --bg-color: #3B4455;\n",
              "      --fill-color: #D2E3FC;\n",
              "      --hover-bg-color: #434B5C;\n",
              "      --hover-fill-color: #FFFFFF;\n",
              "      --disabled-bg-color: #3B4455;\n",
              "      --disabled-fill-color: #666;\n",
              "  }\n",
              "\n",
              "  .colab-df-quickchart {\n",
              "    background-color: var(--bg-color);\n",
              "    border: none;\n",
              "    border-radius: 50%;\n",
              "    cursor: pointer;\n",
              "    display: none;\n",
              "    fill: var(--fill-color);\n",
              "    height: 32px;\n",
              "    padding: 0;\n",
              "    width: 32px;\n",
              "  }\n",
              "\n",
              "  .colab-df-quickchart:hover {\n",
              "    background-color: var(--hover-bg-color);\n",
              "    box-shadow: 0 1px 2px rgba(60, 64, 67, 0.3), 0 1px 3px 1px rgba(60, 64, 67, 0.15);\n",
              "    fill: var(--button-hover-fill-color);\n",
              "  }\n",
              "\n",
              "  .colab-df-quickchart-complete:disabled,\n",
              "  .colab-df-quickchart-complete:disabled:hover {\n",
              "    background-color: var(--disabled-bg-color);\n",
              "    fill: var(--disabled-fill-color);\n",
              "    box-shadow: none;\n",
              "  }\n",
              "\n",
              "  .colab-df-spinner {\n",
              "    border: 2px solid var(--fill-color);\n",
              "    border-color: transparent;\n",
              "    border-bottom-color: var(--fill-color);\n",
              "    animation:\n",
              "      spin 1s steps(1) infinite;\n",
              "  }\n",
              "\n",
              "  @keyframes spin {\n",
              "    0% {\n",
              "      border-color: transparent;\n",
              "      border-bottom-color: var(--fill-color);\n",
              "      border-left-color: var(--fill-color);\n",
              "    }\n",
              "    20% {\n",
              "      border-color: transparent;\n",
              "      border-left-color: var(--fill-color);\n",
              "      border-top-color: var(--fill-color);\n",
              "    }\n",
              "    30% {\n",
              "      border-color: transparent;\n",
              "      border-left-color: var(--fill-color);\n",
              "      border-top-color: var(--fill-color);\n",
              "      border-right-color: var(--fill-color);\n",
              "    }\n",
              "    40% {\n",
              "      border-color: transparent;\n",
              "      border-right-color: var(--fill-color);\n",
              "      border-top-color: var(--fill-color);\n",
              "    }\n",
              "    60% {\n",
              "      border-color: transparent;\n",
              "      border-right-color: var(--fill-color);\n",
              "    }\n",
              "    80% {\n",
              "      border-color: transparent;\n",
              "      border-right-color: var(--fill-color);\n",
              "      border-bottom-color: var(--fill-color);\n",
              "    }\n",
              "    90% {\n",
              "      border-color: transparent;\n",
              "      border-bottom-color: var(--fill-color);\n",
              "    }\n",
              "  }\n",
              "</style>\n",
              "\n",
              "  <script>\n",
              "    async function quickchart(key) {\n",
              "      const quickchartButtonEl =\n",
              "        document.querySelector('#' + key + ' button');\n",
              "      quickchartButtonEl.disabled = true;  // To prevent multiple clicks.\n",
              "      quickchartButtonEl.classList.add('colab-df-spinner');\n",
              "      try {\n",
              "        const charts = await google.colab.kernel.invokeFunction(\n",
              "            'suggestCharts', [key], {});\n",
              "      } catch (error) {\n",
              "        console.error('Error during call to suggestCharts:', error);\n",
              "      }\n",
              "      quickchartButtonEl.classList.remove('colab-df-spinner');\n",
              "      quickchartButtonEl.classList.add('colab-df-quickchart-complete');\n",
              "    }\n",
              "    (() => {\n",
              "      let quickchartButtonEl =\n",
              "        document.querySelector('#df-f7c08a10-ee32-4f05-b8f2-7874b75ad3a1 button');\n",
              "      quickchartButtonEl.style.display =\n",
              "        google.colab.kernel.accessAllowed ? 'block' : 'none';\n",
              "    })();\n",
              "  </script>\n",
              "</div>\n",
              "\n",
              "    </div>\n",
              "  </div>\n"
            ],
            "application/vnd.google.colaboratory.intrinsic+json": {
              "type": "dataframe",
              "variable_name": "df_5_new",
              "summary": "{\n  \"name\": \"df_5_new\",\n  \"rows\": 34326,\n  \"fields\": [\n    {\n      \"column\": \"Order_Date\",\n      \"properties\": {\n        \"dtype\": \"object\",\n        \"num_unique_values\": 731,\n        \"samples\": [\n          \"18-05-2022\",\n          \"06-10-2023\",\n          \"03-08-2022\"\n        ],\n        \"semantic_type\": \"\",\n        \"description\": \"\"\n      }\n    },\n    {\n      \"column\": \"Time_Orderd\",\n      \"properties\": {\n        \"dtype\": \"object\",\n        \"num_unique_values\": 1440,\n        \"samples\": [\n          \"20:45\",\n          \"07:48\",\n          \"04:14\"\n        ],\n        \"semantic_type\": \"\",\n        \"description\": \"\"\n      }\n    },\n    {\n      \"column\": \"Time_Order_picked\",\n      \"properties\": {\n        \"dtype\": \"object\",\n        \"num_unique_values\": 1440,\n        \"samples\": [\n          \"03:18\",\n          \"17:10\",\n          \"08:05\"\n        ],\n        \"semantic_type\": \"\",\n        \"description\": \"\"\n      }\n    },\n    {\n      \"column\": \"Weather_conditions\",\n      \"properties\": {\n        \"dtype\": \"category\",\n        \"num_unique_values\": 6,\n        \"samples\": [\n          \"Windy\",\n          \"Storm\",\n          \"Rainy\"\n        ],\n        \"semantic_type\": \"\",\n        \"description\": \"\"\n      }\n    }\n  ]\n}"
            }
          },
          "metadata": {},
          "execution_count": 16
        }
      ],
      "source": [
        "df_5_new.head()"
      ]
    },
    {
      "cell_type": "markdown",
      "metadata": {
        "id": "dKyY2qJ1JOmD"
      },
      "source": [
        "We have now generated a new dataset with required values!"
      ]
    },
    {
      "cell_type": "markdown",
      "metadata": {
        "id": "O1ENggJrJyRq"
      },
      "source": [
        "Now we have to merge df_5 and df_5_new:"
      ]
    },
    {
      "cell_type": "code",
      "execution_count": 17,
      "metadata": {
        "id": "EBOo3D12JBbW"
      },
      "outputs": [],
      "source": [
        "final_df_5 = pd.DataFrame()\n",
        "\n",
        "df_5_columns = ['Order_Date',\t'Time_Orderd',\t'Time_Order_picked',\t'Weather_conditions']\n",
        "final_df_5_columns = ['Order_Date',\t'Time_Orderd',\t'Time_Order_picked',\t'Weather_conditions']\n",
        "\n",
        "final_df_5[final_df_5_columns] = df_5_cleaned[df_5_columns].copy()"
      ]
    },
    {
      "cell_type": "code",
      "execution_count": 18,
      "metadata": {
        "id": "roQtbQNKKVYG"
      },
      "outputs": [],
      "source": [
        "final_df_5 = pd.concat([final_df_5, df_5_new], ignore_index=True)"
      ]
    },
    {
      "cell_type": "markdown",
      "source": [
        "Shuffle final dataset and save to csv"
      ],
      "metadata": {
        "id": "N48CyNRZ7kTx"
      }
    },
    {
      "cell_type": "code",
      "source": [
        "# Shuffle the rows\n",
        "final_df_5 = final_df_5.sample(frac=1, random_state=42)  # frac=1 means sample all rows"
      ],
      "metadata": {
        "id": "DBQobW9h7Hom"
      },
      "execution_count": 19,
      "outputs": []
    },
    {
      "cell_type": "code",
      "execution_count": 20,
      "metadata": {
        "id": "3i7lzzH8KVUo"
      },
      "outputs": [],
      "source": [
        "final_df_5.to_csv(\"D5.csv\", index=False)"
      ]
    },
    {
      "cell_type": "markdown",
      "metadata": {
        "id": "Bav7dohYUseP"
      },
      "source": [
        "Dataset D2"
      ]
    },
    {
      "cell_type": "code",
      "execution_count": 21,
      "metadata": {
        "id": "MZBLVPgRU0aY"
      },
      "outputs": [],
      "source": [
        "import pandas as pd\n",
        "df_2 = pd.read_csv(\"/root/.cache/kagglehub/datasets/benroshan/online-food-delivery-preferencesbangalore-region/versions/3/onlinedeliverydata.csv\")"
      ]
    },
    {
      "cell_type": "markdown",
      "source": [
        "To remove NaN values in D2"
      ],
      "metadata": {
        "id": "hyObY0wI7hyf"
      }
    },
    {
      "cell_type": "code",
      "execution_count": 22,
      "metadata": {
        "id": "R1YxBk-kU_yQ"
      },
      "outputs": [],
      "source": [
        "df_2 = df_2.dropna()"
      ]
    },
    {
      "cell_type": "code",
      "source": [
        "val = ['Zomato', 'Swiggy']\n",
        "for i in df_2['Medium (P1)']:\n",
        "  if str(i) == \"Food delivery apps\":\n",
        "    df_2['Medium (P1)'] = np.random.choice(val, size=len(df_2))"
      ],
      "metadata": {
        "id": "dEuEAIRz-hpQ"
      },
      "execution_count": 23,
      "outputs": []
    },
    {
      "cell_type": "code",
      "source": [],
      "metadata": {
        "id": "_5TWUJPYM5i0"
      },
      "execution_count": 23,
      "outputs": []
    },
    {
      "cell_type": "code",
      "execution_count": 24,
      "metadata": {
        "id": "ENnb8ngxVFCT"
      },
      "outputs": [],
      "source": [
        "final_df_2 = pd.DataFrame()\n",
        "\n",
        "df_2_columns = ['Age', 'Gender', 'Marital Status', 'Occupation', 'Monthly Income',\t'Medium (P1)', 'Meal(P1)', 'Influence of rating', 'Freshness ', 'Temperature', 'Good Taste ', 'Good Quantity', 'Good Food quality', 'Poor Hygiene', 'Bad past experience', 'High Quality of package', 'Late Delivery', 'Long delivery time',\t'Delay of delivery person getting assigned', 'Delay of delivery person picking up food', 'Maximum wait time', 'Less Delivery time', 'Wrong order delivered',\t'Missing item', 'Order placed by mistake']\n",
        "\n",
        "final_df_2_columns = ['Age', 'Gender', 'Marital_Status', 'Occupation', 'Monthly_Income',\t'Order_Preference', 'Meal_Type', 'Influence_of_Rating', 'Freshness_of_Food', 'Temperature_of_Food', 'Taste_of_Food', 'Quantity_of_Food', 'Food_Quality', 'Poor_Hygiene', 'Bad_Past_Experience', 'High_Quality_of_Package', 'Late_Delivery', 'Long_Delivery_Time',\t'Delay_of_Delivery_Person_Getting_Assigned', 'Delay_of_Delivery_Person_Picking_Up_Food', 'Maximum_Wait_Time', 'Less_Delivery_Time', 'Wrong_Order_Delivered',\t'Missing_Item', 'Order_Placed_by_Mistake' ]\n",
        "\n",
        "final_df_2[final_df_2_columns] = df_2[df_2_columns].copy()"
      ]
    },
    {
      "cell_type": "code",
      "execution_count": 25,
      "metadata": {
        "id": "40wMnCCdYdcd"
      },
      "outputs": [],
      "source": [
        "final_df_2.to_csv(\"D2.csv\", index=False)"
      ]
    },
    {
      "cell_type": "code",
      "source": [
        "# Number of rows\n",
        "num_rows = 67341"
      ],
      "metadata": {
        "id": "8h9qjGuoJSST"
      },
      "execution_count": 26,
      "outputs": []
    },
    {
      "cell_type": "markdown",
      "metadata": {
        "id": "a7UKq6isaANw"
      },
      "source": [
        "Simulate columns with values Agree, Stringly Agree and so on"
      ]
    },
    {
      "cell_type": "code",
      "execution_count": 27,
      "metadata": {
        "id": "p1bVxwR7Zduz"
      },
      "outputs": [],
      "source": [
        "import numpy as np\n",
        "\n",
        "df_2_new = pd.DataFrame()\n",
        "\n",
        "\n",
        "# List of possible values\n",
        "val = ['Agree', 'Strongly Agree', 'Neutral', 'Disagree',  'Strongly Disagree']\n",
        "\n",
        "# Randomly assign values to the required columns\n",
        "df_2_new['Food_Quality'] = np.random.choice(val, size=num_rows)\n",
        "df_2_new['Poor_Hygiene'] = np.random.choice(val, size=num_rows)\n",
        "df_2_new['Bad_Past_Experience'] = np.random.choice(val, size=num_rows)\n",
        "df_2_new['Late_Delivery'] = np.random.choice(val, size=num_rows)\n",
        "df_2_new['Long_Delivery_Time'] = np.random.choice(val, size=num_rows)\n",
        "df_2_new['Delay_of_Delivery_Person_Getting_Assigned'] = np.random.choice(val, size=num_rows)\n",
        "df_2_new['Delay_of_Delivery_Person_Picking_Up_Food'] = np.random.choice(val, size=num_rows)\n",
        "df_2_new['Wrong_Order_Delivered'] = np.random.choice(val, size=num_rows)\n",
        "df_2_new['Missing_Item'] = np.random.choice(val, size=num_rows)\n",
        "df_2_new['Order_Placed_by_Mistake'] = np.random.choice(val, size=num_rows)\n",
        "\n",
        "df_2_new.to_csv(\"generated_df2.csv\", index=False)\n"
      ]
    },
    {
      "cell_type": "markdown",
      "source": [
        "Simulate columns with values Important, Unimportant and so on"
      ],
      "metadata": {
        "id": "mwvfW8We5iSt"
      }
    },
    {
      "cell_type": "code",
      "execution_count": 28,
      "metadata": {
        "id": "DneqwEnjbRzw"
      },
      "outputs": [],
      "source": [
        "\n",
        "# List of possible values\n",
        "val = ['Important', 'Very Important', 'Slightly Important', 'Moderately Important', 'Unimportant']\n",
        "# Randomly assign values to the required columns\n",
        "df_2_new['Freshness_of_Food'] = np.random.choice(val, size=num_rows)\n",
        "df_2_new['Temperature_of_Food'] = np.random.choice(val, size=num_rows)\n",
        "df_2_new['Taste_of_Food'] = np.random.choice(val, size=num_rows)\n",
        "df_2_new['Quantity_of_Food'] = np.random.choice(val, size=num_rows)\n",
        "df_2_new['High_Quality_of_Package'] = np.random.choice(val, size=num_rows)\n",
        "df_2_new['Less_Delivery_Time'] = np.random.choice(val, size=num_rows)\n",
        "\n",
        "df_2_new.to_csv(\"generated_df2.csv\", index=False)\n"
      ]
    },
    {
      "cell_type": "markdown",
      "source": [
        "Simulate columns with values yes, no and maybe"
      ],
      "metadata": {
        "id": "LtKe1unY506D"
      }
    },
    {
      "cell_type": "code",
      "source": [
        "\n",
        "# List of possible values\n",
        "val = ['Yes', 'No', 'Maybe']\n",
        "\n",
        "# Randomly assign values to the required columns\n",
        "df_2_new['Influence_of_Rating'] = np.random.choice(val, size=num_rows)\n",
        "\n",
        "df_2_new.to_csv(\"generated_df2.csv\", index=False)\n"
      ],
      "metadata": {
        "id": "QYUAbzs45zWn"
      },
      "execution_count": 29,
      "outputs": []
    },
    {
      "cell_type": "markdown",
      "source": [
        "Simulate values of Meal_Type"
      ],
      "metadata": {
        "id": "SFhxU4c46y2K"
      }
    },
    {
      "cell_type": "code",
      "source": [
        "\n",
        "# List of possible values\n",
        "val = ['Breakfast', 'Lunch', 'Dinner']\n",
        "\n",
        "# Randomly assign values to the required columns\n",
        "df_2_new['Meal_Type'] = np.random.choice(val, size=num_rows)\n",
        "\n",
        "df_2_new.to_csv(\"generated_df2.csv\", index=False)\n"
      ],
      "metadata": {
        "id": "TfcajFZf6kdq"
      },
      "execution_count": 30,
      "outputs": []
    },
    {
      "cell_type": "markdown",
      "source": [
        "Simulate values of Maximum_Wait_Time"
      ],
      "metadata": {
        "id": "94HbRrSj62Mv"
      }
    },
    {
      "cell_type": "code",
      "source": [
        "\n",
        "# List of possible values\n",
        "val = ['15 minutes', '30 minutes', '45 minutes', '60 minutes', 'More than 60 minutes']\n",
        "\n",
        "# Randomly assign values to the required columns\n",
        "df_2_new['Maximum_Wait_Time'] = np.random.choice(val, size=num_rows)\n",
        "\n",
        "df_2_new.to_csv(\"generated_df2.csv\", index=False)\n"
      ],
      "metadata": {
        "id": "LDsa1M1t6n0r"
      },
      "execution_count": 31,
      "outputs": []
    },
    {
      "cell_type": "markdown",
      "source": [
        "Simulate values of order preference"
      ],
      "metadata": {
        "id": "6JGhwe_L6698"
      }
    },
    {
      "cell_type": "code",
      "source": [
        "# List of possible values\n",
        "val = ['Direct Call', 'Website', 'Zomato', 'Swiggy']\n",
        "\n",
        "dominant_val = ['Zomato', 'Swiggy']\n",
        "other_val = ['Direct Call', 'Website']\n",
        "\n",
        "dominant_count = int(0.85 * num_rows)\n",
        "other_count = int(num_rows - dominant_count)\n",
        "\n",
        "# Generate choices for dominant values\n",
        "dominant_choices = np.random.choice(dominant_val, size=dominant_count)\n",
        "\n",
        "# Generate choices for other values\n",
        "other_choices = np.random.choice(other_val, size=other_count)\n",
        "\n",
        "# Concatenate the choices to create the final column\n",
        "all_choices = np.concatenate([dominant_choices, other_choices])\n",
        "\n",
        "# Assign the choices to the 'Order_Preference' column\n",
        "df_2_new['Order_Preference'] = all_choices\n",
        "\n",
        "# df_2_new['Order_Preference'] = np.random.choice(dominant_val, size=dominant_count)\n",
        "# df_2_new['Order_Preference'] = np.random.choice(other_val, size=other_count)\n",
        "\n",
        "\n",
        "df_2_new.to_csv(\"generated_df2.csv\", index=False)"
      ],
      "metadata": {
        "id": "93asqtDn6sY3"
      },
      "execution_count": 32,
      "outputs": []
    },
    {
      "cell_type": "code",
      "source": [
        "# List of possible values\n",
        "val_1 = [ 'Male','Female']\n",
        "# Randomly assign values to the required columns\n",
        "df_2_new['Age'] = np.random.randint(18, 60, size=num_rows)\n",
        "df_2_new['Gender'] = np.random.choice(val_1, size=num_rows)\n",
        "for _, row in df_2_new.iterrows():\n",
        "    age, gender = row['Age'], row['Gender']\n",
        "\n",
        "    # Default values for occupation, marital status, and income\n",
        "    if 18 <= age <= 24:  # Age range for Students\n",
        "        occupation, marital_status, monthly_income = \"Student\", \"Single\", np.random.choice([\"No Income\", \"Below 10000\"])\n",
        "    elif gender == \"Female\" and age >= 25:  # House wife condition\n",
        "        occupation = np.random.choice([\"House wife\", \"Employee\", \"Self Employeed\"])\n",
        "        marital_status, monthly_income = (np.random.choice([\"Single\", \"Married\"]), \"No Income\") if occupation == \"House wife\" else (np.random.choice([\"Single\", \"Married\"]), np.random.choice([\"More than 50000\", \"25001 to 50000\", \"10001 to 25000\", \"Below 10000\"]))\n",
        "    else:  # Employees and Self Employeed for other cases\n",
        "        occupation, marital_status, monthly_income = np.random.choice([\"Employee\", \"Self Employeed\"]), np.random.choice([\"Single\", \"Married\"]), np.random.choice([\"More than 50000\", \"25001 to 50000\", \"10001 to 25000\", \"Below 10000\"])\n",
        "\n",
        "    # Assign values to the row\n",
        "    df_2_new.at[_, 'Occupation'], df_2_new.at[_, 'Marital_Status'], df_2_new.at[_, 'Monthly_Income'] = occupation, marital_status, monthly_income\n",
        "df_2_new.to_csv(\"generated_df2.csv\", index=False)"
      ],
      "metadata": {
        "id": "YbRYvZu18Q2F"
      },
      "execution_count": 33,
      "outputs": []
    },
    {
      "cell_type": "markdown",
      "source": [
        "Simulate customer details"
      ],
      "metadata": {
        "id": "chhryqtu6-UB"
      }
    },
    {
      "cell_type": "code",
      "source": [
        "final_df_2_new = pd.DataFrame()\n",
        "\n",
        "df_2_new_columns = ['Age', 'Gender', 'Marital_Status', 'Occupation', 'Monthly_Income',\t'Order_Preference', 'Meal_Type', 'Influence_of_Rating', 'Freshness_of_Food', 'Temperature_of_Food', 'Taste_of_Food', 'Quantity_of_Food', 'Food_Quality', 'Poor_Hygiene', 'Bad_Past_Experience', 'High_Quality_of_Package', 'Late_Delivery', 'Long_Delivery_Time',\t'Delay_of_Delivery_Person_Getting_Assigned', 'Delay_of_Delivery_Person_Picking_Up_Food', 'Maximum_Wait_Time', 'Less_Delivery_Time', 'Wrong_Order_Delivered',\t'Missing_Item', 'Order_Placed_by_Mistake' ]\n",
        "\n",
        "final_df_2_new_columns = ['Age', 'Gender', 'Marital_Status', 'Occupation', 'Monthly_Income',\t'Order_Preference', 'Meal_Type', 'Influence_of_Rating', 'Freshness_of_Food', 'Temperature_of_Food', 'Taste_of_Food', 'Quantity_of_Food', 'Food_Quality', 'Poor_Hygiene', 'Bad_Past_Experience', 'High_Quality_of_Package', 'Late_Delivery', 'Long_Delivery_Time',\t'Delay_of_Delivery_Person_Getting_Assigned', 'Delay_of_Delivery_Person_Picking_Up_Food', 'Maximum_Wait_Time', 'Less_Delivery_Time', 'Wrong_Order_Delivered',\t'Missing_Item', 'Order_Placed_by_Mistake' ]\n",
        "\n",
        "final_df_2_new[final_df_2_new_columns] = df_2_new[df_2_new_columns].copy()"
      ],
      "metadata": {
        "id": "8Lk63g5V9nUc"
      },
      "execution_count": 34,
      "outputs": []
    },
    {
      "cell_type": "markdown",
      "source": [
        "Merge generated dataset and original dataset"
      ],
      "metadata": {
        "id": "e2HTKkef7bpK"
      }
    },
    {
      "cell_type": "code",
      "source": [
        "final_df_2 = pd.concat([final_df_2, final_df_2_new], ignore_index=True)\n",
        "final_df_2"
      ],
      "metadata": {
        "id": "c9UuOT9S7ZM3",
        "colab": {
          "base_uri": "https://localhost:8080/",
          "height": 513
        },
        "outputId": "81962392-47d8-49ba-add3-600402e70245"
      },
      "execution_count": 35,
      "outputs": [
        {
          "output_type": "execute_result",
          "data": {
            "text/plain": [
              "       Age  Gender Marital_Status      Occupation   Monthly_Income  \\\n",
              "0       20  Female         Single         Student        No Income   \n",
              "1       24  Female         Single         Student   Below Rs.10000   \n",
              "2       22    Male         Single         Student   Below Rs.10000   \n",
              "3       22  Female         Single         Student        No Income   \n",
              "4       22    Male         Single         Student   Below Rs.10000   \n",
              "...    ...     ...            ...             ...              ...   \n",
              "67723   30  Female        Married      House wife        No Income   \n",
              "67724   43  Female         Single  Self Employeed  More than 50000   \n",
              "67725   29    Male         Single        Employee  More than 50000   \n",
              "67726   29    Male         Single        Employee      Below 10000   \n",
              "67727   41  Female        Married      House wife        No Income   \n",
              "\n",
              "      Order_Preference  Meal_Type Influence_of_Rating     Freshness_of_Food  \\\n",
              "0               Zomato  Breakfast                 Yes  Moderately Important   \n",
              "1               Swiggy     Snacks                 Yes        Very Important   \n",
              "2               Zomato      Lunch                 Yes        Very Important   \n",
              "3               Zomato     Snacks                 Yes        Very Important   \n",
              "4               Swiggy      Lunch                 Yes             Important   \n",
              "...                ...        ...                 ...                   ...   \n",
              "67723          Website  Breakfast                 Yes        Very Important   \n",
              "67724      Direct Call      Lunch                 Yes  Moderately Important   \n",
              "67725          Website     Dinner                  No             Important   \n",
              "67726          Website     Dinner                 Yes           Unimportant   \n",
              "67727          Website  Breakfast                  No  Moderately Important   \n",
              "\n",
              "        Temperature_of_Food  ... High_Quality_of_Package      Late_Delivery  \\\n",
              "0      Moderately Important  ...    Moderately Important            Neutral   \n",
              "1            Very Important  ...          Very Important              Agree   \n",
              "2                 Important  ...          Very Important            Neutral   \n",
              "3            Very Important  ...               Important            Neutral   \n",
              "4                 Important  ...               Important     Strongly agree   \n",
              "...                     ...  ...                     ...                ...   \n",
              "67723    Slightly Important  ...          Very Important  Strongly Disagree   \n",
              "67724             Important  ...    Moderately Important              Agree   \n",
              "67725    Slightly Important  ...      Slightly Important     Strongly Agree   \n",
              "67726        Very Important  ...             Unimportant  Strongly Disagree   \n",
              "67727           Unimportant  ...               Important           Disagree   \n",
              "\n",
              "      Long_Delivery_Time Delay_of_Delivery_Person_Getting_Assigned  \\\n",
              "0                  Agree                                     Agree   \n",
              "1         Strongly agree                            Strongly agree   \n",
              "2                  Agree                                     Agree   \n",
              "3                  Agree                                     Agree   \n",
              "4         Strongly agree                            Strongly agree   \n",
              "...                  ...                                       ...   \n",
              "67723  Strongly Disagree                                  Disagree   \n",
              "67724     Strongly Agree                                   Neutral   \n",
              "67725     Strongly Agree                            Strongly Agree   \n",
              "67726            Neutral                         Strongly Disagree   \n",
              "67727     Strongly Agree                                     Agree   \n",
              "\n",
              "      Delay_of_Delivery_Person_Picking_Up_Food     Maximum_Wait_Time  \\\n",
              "0                                        Agree            30 minutes   \n",
              "1                               Strongly agree            30 minutes   \n",
              "2                                        Agree            45 minutes   \n",
              "3                                        Agree            30 minutes   \n",
              "4                                      Neutral            30 minutes   \n",
              "...                                        ...                   ...   \n",
              "67723                        Strongly Disagree            15 minutes   \n",
              "67724                                  Neutral            45 minutes   \n",
              "67725                                    Agree            45 minutes   \n",
              "67726                                 Disagree            15 minutes   \n",
              "67727                                    Agree  More than 60 minutes   \n",
              "\n",
              "         Less_Delivery_Time Wrong_Order_Delivered       Missing_Item  \\\n",
              "0      Moderately Important                 Agree              Agree   \n",
              "1            Very Important        Strongly agree     Strongly agree   \n",
              "2                 Important        Strongly agree              Agree   \n",
              "3            Very Important              Disagree           Disagree   \n",
              "4                 Important               Neutral            Neutral   \n",
              "...                     ...                   ...                ...   \n",
              "67723        Very Important              Disagree              Agree   \n",
              "67724  Moderately Important                 Agree              Agree   \n",
              "67725        Very Important                 Agree              Agree   \n",
              "67726           Unimportant        Strongly Agree           Disagree   \n",
              "67727             Important                 Agree  Strongly Disagree   \n",
              "\n",
              "      Order_Placed_by_Mistake  \n",
              "0                       Agree  \n",
              "1              Strongly agree  \n",
              "2                     Neutral  \n",
              "3                     Neutral  \n",
              "4                    Disagree  \n",
              "...                       ...  \n",
              "67723          Strongly Agree  \n",
              "67724          Strongly Agree  \n",
              "67725       Strongly Disagree  \n",
              "67726                   Agree  \n",
              "67727          Strongly Agree  \n",
              "\n",
              "[67728 rows x 25 columns]"
            ],
            "text/html": [
              "\n",
              "  <div id=\"df-fd44971b-c978-4032-b7bc-81414f04157c\" class=\"colab-df-container\">\n",
              "    <div>\n",
              "<style scoped>\n",
              "    .dataframe tbody tr th:only-of-type {\n",
              "        vertical-align: middle;\n",
              "    }\n",
              "\n",
              "    .dataframe tbody tr th {\n",
              "        vertical-align: top;\n",
              "    }\n",
              "\n",
              "    .dataframe thead th {\n",
              "        text-align: right;\n",
              "    }\n",
              "</style>\n",
              "<table border=\"1\" class=\"dataframe\">\n",
              "  <thead>\n",
              "    <tr style=\"text-align: right;\">\n",
              "      <th></th>\n",
              "      <th>Age</th>\n",
              "      <th>Gender</th>\n",
              "      <th>Marital_Status</th>\n",
              "      <th>Occupation</th>\n",
              "      <th>Monthly_Income</th>\n",
              "      <th>Order_Preference</th>\n",
              "      <th>Meal_Type</th>\n",
              "      <th>Influence_of_Rating</th>\n",
              "      <th>Freshness_of_Food</th>\n",
              "      <th>Temperature_of_Food</th>\n",
              "      <th>...</th>\n",
              "      <th>High_Quality_of_Package</th>\n",
              "      <th>Late_Delivery</th>\n",
              "      <th>Long_Delivery_Time</th>\n",
              "      <th>Delay_of_Delivery_Person_Getting_Assigned</th>\n",
              "      <th>Delay_of_Delivery_Person_Picking_Up_Food</th>\n",
              "      <th>Maximum_Wait_Time</th>\n",
              "      <th>Less_Delivery_Time</th>\n",
              "      <th>Wrong_Order_Delivered</th>\n",
              "      <th>Missing_Item</th>\n",
              "      <th>Order_Placed_by_Mistake</th>\n",
              "    </tr>\n",
              "  </thead>\n",
              "  <tbody>\n",
              "    <tr>\n",
              "      <th>0</th>\n",
              "      <td>20</td>\n",
              "      <td>Female</td>\n",
              "      <td>Single</td>\n",
              "      <td>Student</td>\n",
              "      <td>No Income</td>\n",
              "      <td>Zomato</td>\n",
              "      <td>Breakfast</td>\n",
              "      <td>Yes</td>\n",
              "      <td>Moderately Important</td>\n",
              "      <td>Moderately Important</td>\n",
              "      <td>...</td>\n",
              "      <td>Moderately Important</td>\n",
              "      <td>Neutral</td>\n",
              "      <td>Agree</td>\n",
              "      <td>Agree</td>\n",
              "      <td>Agree</td>\n",
              "      <td>30 minutes</td>\n",
              "      <td>Moderately Important</td>\n",
              "      <td>Agree</td>\n",
              "      <td>Agree</td>\n",
              "      <td>Agree</td>\n",
              "    </tr>\n",
              "    <tr>\n",
              "      <th>1</th>\n",
              "      <td>24</td>\n",
              "      <td>Female</td>\n",
              "      <td>Single</td>\n",
              "      <td>Student</td>\n",
              "      <td>Below Rs.10000</td>\n",
              "      <td>Swiggy</td>\n",
              "      <td>Snacks</td>\n",
              "      <td>Yes</td>\n",
              "      <td>Very Important</td>\n",
              "      <td>Very Important</td>\n",
              "      <td>...</td>\n",
              "      <td>Very Important</td>\n",
              "      <td>Agree</td>\n",
              "      <td>Strongly agree</td>\n",
              "      <td>Strongly agree</td>\n",
              "      <td>Strongly agree</td>\n",
              "      <td>30 minutes</td>\n",
              "      <td>Very Important</td>\n",
              "      <td>Strongly agree</td>\n",
              "      <td>Strongly agree</td>\n",
              "      <td>Strongly agree</td>\n",
              "    </tr>\n",
              "    <tr>\n",
              "      <th>2</th>\n",
              "      <td>22</td>\n",
              "      <td>Male</td>\n",
              "      <td>Single</td>\n",
              "      <td>Student</td>\n",
              "      <td>Below Rs.10000</td>\n",
              "      <td>Zomato</td>\n",
              "      <td>Lunch</td>\n",
              "      <td>Yes</td>\n",
              "      <td>Very Important</td>\n",
              "      <td>Important</td>\n",
              "      <td>...</td>\n",
              "      <td>Very Important</td>\n",
              "      <td>Neutral</td>\n",
              "      <td>Agree</td>\n",
              "      <td>Agree</td>\n",
              "      <td>Agree</td>\n",
              "      <td>45 minutes</td>\n",
              "      <td>Important</td>\n",
              "      <td>Strongly agree</td>\n",
              "      <td>Agree</td>\n",
              "      <td>Neutral</td>\n",
              "    </tr>\n",
              "    <tr>\n",
              "      <th>3</th>\n",
              "      <td>22</td>\n",
              "      <td>Female</td>\n",
              "      <td>Single</td>\n",
              "      <td>Student</td>\n",
              "      <td>No Income</td>\n",
              "      <td>Zomato</td>\n",
              "      <td>Snacks</td>\n",
              "      <td>Yes</td>\n",
              "      <td>Very Important</td>\n",
              "      <td>Very Important</td>\n",
              "      <td>...</td>\n",
              "      <td>Important</td>\n",
              "      <td>Neutral</td>\n",
              "      <td>Agree</td>\n",
              "      <td>Agree</td>\n",
              "      <td>Agree</td>\n",
              "      <td>30 minutes</td>\n",
              "      <td>Very Important</td>\n",
              "      <td>Disagree</td>\n",
              "      <td>Disagree</td>\n",
              "      <td>Neutral</td>\n",
              "    </tr>\n",
              "    <tr>\n",
              "      <th>4</th>\n",
              "      <td>22</td>\n",
              "      <td>Male</td>\n",
              "      <td>Single</td>\n",
              "      <td>Student</td>\n",
              "      <td>Below Rs.10000</td>\n",
              "      <td>Swiggy</td>\n",
              "      <td>Lunch</td>\n",
              "      <td>Yes</td>\n",
              "      <td>Important</td>\n",
              "      <td>Important</td>\n",
              "      <td>...</td>\n",
              "      <td>Important</td>\n",
              "      <td>Strongly agree</td>\n",
              "      <td>Strongly agree</td>\n",
              "      <td>Strongly agree</td>\n",
              "      <td>Neutral</td>\n",
              "      <td>30 minutes</td>\n",
              "      <td>Important</td>\n",
              "      <td>Neutral</td>\n",
              "      <td>Neutral</td>\n",
              "      <td>Disagree</td>\n",
              "    </tr>\n",
              "    <tr>\n",
              "      <th>...</th>\n",
              "      <td>...</td>\n",
              "      <td>...</td>\n",
              "      <td>...</td>\n",
              "      <td>...</td>\n",
              "      <td>...</td>\n",
              "      <td>...</td>\n",
              "      <td>...</td>\n",
              "      <td>...</td>\n",
              "      <td>...</td>\n",
              "      <td>...</td>\n",
              "      <td>...</td>\n",
              "      <td>...</td>\n",
              "      <td>...</td>\n",
              "      <td>...</td>\n",
              "      <td>...</td>\n",
              "      <td>...</td>\n",
              "      <td>...</td>\n",
              "      <td>...</td>\n",
              "      <td>...</td>\n",
              "      <td>...</td>\n",
              "      <td>...</td>\n",
              "    </tr>\n",
              "    <tr>\n",
              "      <th>67723</th>\n",
              "      <td>30</td>\n",
              "      <td>Female</td>\n",
              "      <td>Married</td>\n",
              "      <td>House wife</td>\n",
              "      <td>No Income</td>\n",
              "      <td>Website</td>\n",
              "      <td>Breakfast</td>\n",
              "      <td>Yes</td>\n",
              "      <td>Very Important</td>\n",
              "      <td>Slightly Important</td>\n",
              "      <td>...</td>\n",
              "      <td>Very Important</td>\n",
              "      <td>Strongly Disagree</td>\n",
              "      <td>Strongly Disagree</td>\n",
              "      <td>Disagree</td>\n",
              "      <td>Strongly Disagree</td>\n",
              "      <td>15 minutes</td>\n",
              "      <td>Very Important</td>\n",
              "      <td>Disagree</td>\n",
              "      <td>Agree</td>\n",
              "      <td>Strongly Agree</td>\n",
              "    </tr>\n",
              "    <tr>\n",
              "      <th>67724</th>\n",
              "      <td>43</td>\n",
              "      <td>Female</td>\n",
              "      <td>Single</td>\n",
              "      <td>Self Employeed</td>\n",
              "      <td>More than 50000</td>\n",
              "      <td>Direct Call</td>\n",
              "      <td>Lunch</td>\n",
              "      <td>Yes</td>\n",
              "      <td>Moderately Important</td>\n",
              "      <td>Important</td>\n",
              "      <td>...</td>\n",
              "      <td>Moderately Important</td>\n",
              "      <td>Agree</td>\n",
              "      <td>Strongly Agree</td>\n",
              "      <td>Neutral</td>\n",
              "      <td>Neutral</td>\n",
              "      <td>45 minutes</td>\n",
              "      <td>Moderately Important</td>\n",
              "      <td>Agree</td>\n",
              "      <td>Agree</td>\n",
              "      <td>Strongly Agree</td>\n",
              "    </tr>\n",
              "    <tr>\n",
              "      <th>67725</th>\n",
              "      <td>29</td>\n",
              "      <td>Male</td>\n",
              "      <td>Single</td>\n",
              "      <td>Employee</td>\n",
              "      <td>More than 50000</td>\n",
              "      <td>Website</td>\n",
              "      <td>Dinner</td>\n",
              "      <td>No</td>\n",
              "      <td>Important</td>\n",
              "      <td>Slightly Important</td>\n",
              "      <td>...</td>\n",
              "      <td>Slightly Important</td>\n",
              "      <td>Strongly Agree</td>\n",
              "      <td>Strongly Agree</td>\n",
              "      <td>Strongly Agree</td>\n",
              "      <td>Agree</td>\n",
              "      <td>45 minutes</td>\n",
              "      <td>Very Important</td>\n",
              "      <td>Agree</td>\n",
              "      <td>Agree</td>\n",
              "      <td>Strongly Disagree</td>\n",
              "    </tr>\n",
              "    <tr>\n",
              "      <th>67726</th>\n",
              "      <td>29</td>\n",
              "      <td>Male</td>\n",
              "      <td>Single</td>\n",
              "      <td>Employee</td>\n",
              "      <td>Below 10000</td>\n",
              "      <td>Website</td>\n",
              "      <td>Dinner</td>\n",
              "      <td>Yes</td>\n",
              "      <td>Unimportant</td>\n",
              "      <td>Very Important</td>\n",
              "      <td>...</td>\n",
              "      <td>Unimportant</td>\n",
              "      <td>Strongly Disagree</td>\n",
              "      <td>Neutral</td>\n",
              "      <td>Strongly Disagree</td>\n",
              "      <td>Disagree</td>\n",
              "      <td>15 minutes</td>\n",
              "      <td>Unimportant</td>\n",
              "      <td>Strongly Agree</td>\n",
              "      <td>Disagree</td>\n",
              "      <td>Agree</td>\n",
              "    </tr>\n",
              "    <tr>\n",
              "      <th>67727</th>\n",
              "      <td>41</td>\n",
              "      <td>Female</td>\n",
              "      <td>Married</td>\n",
              "      <td>House wife</td>\n",
              "      <td>No Income</td>\n",
              "      <td>Website</td>\n",
              "      <td>Breakfast</td>\n",
              "      <td>No</td>\n",
              "      <td>Moderately Important</td>\n",
              "      <td>Unimportant</td>\n",
              "      <td>...</td>\n",
              "      <td>Important</td>\n",
              "      <td>Disagree</td>\n",
              "      <td>Strongly Agree</td>\n",
              "      <td>Agree</td>\n",
              "      <td>Agree</td>\n",
              "      <td>More than 60 minutes</td>\n",
              "      <td>Important</td>\n",
              "      <td>Agree</td>\n",
              "      <td>Strongly Disagree</td>\n",
              "      <td>Strongly Agree</td>\n",
              "    </tr>\n",
              "  </tbody>\n",
              "</table>\n",
              "<p>67728 rows × 25 columns</p>\n",
              "</div>\n",
              "    <div class=\"colab-df-buttons\">\n",
              "\n",
              "  <div class=\"colab-df-container\">\n",
              "    <button class=\"colab-df-convert\" onclick=\"convertToInteractive('df-fd44971b-c978-4032-b7bc-81414f04157c')\"\n",
              "            title=\"Convert this dataframe to an interactive table.\"\n",
              "            style=\"display:none;\">\n",
              "\n",
              "  <svg xmlns=\"http://www.w3.org/2000/svg\" height=\"24px\" viewBox=\"0 -960 960 960\">\n",
              "    <path d=\"M120-120v-720h720v720H120Zm60-500h600v-160H180v160Zm220 220h160v-160H400v160Zm0 220h160v-160H400v160ZM180-400h160v-160H180v160Zm440 0h160v-160H620v160ZM180-180h160v-160H180v160Zm440 0h160v-160H620v160Z\"/>\n",
              "  </svg>\n",
              "    </button>\n",
              "\n",
              "  <style>\n",
              "    .colab-df-container {\n",
              "      display:flex;\n",
              "      gap: 12px;\n",
              "    }\n",
              "\n",
              "    .colab-df-convert {\n",
              "      background-color: #E8F0FE;\n",
              "      border: none;\n",
              "      border-radius: 50%;\n",
              "      cursor: pointer;\n",
              "      display: none;\n",
              "      fill: #1967D2;\n",
              "      height: 32px;\n",
              "      padding: 0 0 0 0;\n",
              "      width: 32px;\n",
              "    }\n",
              "\n",
              "    .colab-df-convert:hover {\n",
              "      background-color: #E2EBFA;\n",
              "      box-shadow: 0px 1px 2px rgba(60, 64, 67, 0.3), 0px 1px 3px 1px rgba(60, 64, 67, 0.15);\n",
              "      fill: #174EA6;\n",
              "    }\n",
              "\n",
              "    .colab-df-buttons div {\n",
              "      margin-bottom: 4px;\n",
              "    }\n",
              "\n",
              "    [theme=dark] .colab-df-convert {\n",
              "      background-color: #3B4455;\n",
              "      fill: #D2E3FC;\n",
              "    }\n",
              "\n",
              "    [theme=dark] .colab-df-convert:hover {\n",
              "      background-color: #434B5C;\n",
              "      box-shadow: 0px 1px 3px 1px rgba(0, 0, 0, 0.15);\n",
              "      filter: drop-shadow(0px 1px 2px rgba(0, 0, 0, 0.3));\n",
              "      fill: #FFFFFF;\n",
              "    }\n",
              "  </style>\n",
              "\n",
              "    <script>\n",
              "      const buttonEl =\n",
              "        document.querySelector('#df-fd44971b-c978-4032-b7bc-81414f04157c button.colab-df-convert');\n",
              "      buttonEl.style.display =\n",
              "        google.colab.kernel.accessAllowed ? 'block' : 'none';\n",
              "\n",
              "      async function convertToInteractive(key) {\n",
              "        const element = document.querySelector('#df-fd44971b-c978-4032-b7bc-81414f04157c');\n",
              "        const dataTable =\n",
              "          await google.colab.kernel.invokeFunction('convertToInteractive',\n",
              "                                                    [key], {});\n",
              "        if (!dataTable) return;\n",
              "\n",
              "        const docLinkHtml = 'Like what you see? Visit the ' +\n",
              "          '<a target=\"_blank\" href=https://colab.research.google.com/notebooks/data_table.ipynb>data table notebook</a>'\n",
              "          + ' to learn more about interactive tables.';\n",
              "        element.innerHTML = '';\n",
              "        dataTable['output_type'] = 'display_data';\n",
              "        await google.colab.output.renderOutput(dataTable, element);\n",
              "        const docLink = document.createElement('div');\n",
              "        docLink.innerHTML = docLinkHtml;\n",
              "        element.appendChild(docLink);\n",
              "      }\n",
              "    </script>\n",
              "  </div>\n",
              "\n",
              "\n",
              "<div id=\"df-5ba50acd-3117-4ed9-b846-269f3a19e647\">\n",
              "  <button class=\"colab-df-quickchart\" onclick=\"quickchart('df-5ba50acd-3117-4ed9-b846-269f3a19e647')\"\n",
              "            title=\"Suggest charts\"\n",
              "            style=\"display:none;\">\n",
              "\n",
              "<svg xmlns=\"http://www.w3.org/2000/svg\" height=\"24px\"viewBox=\"0 0 24 24\"\n",
              "     width=\"24px\">\n",
              "    <g>\n",
              "        <path d=\"M19 3H5c-1.1 0-2 .9-2 2v14c0 1.1.9 2 2 2h14c1.1 0 2-.9 2-2V5c0-1.1-.9-2-2-2zM9 17H7v-7h2v7zm4 0h-2V7h2v10zm4 0h-2v-4h2v4z\"/>\n",
              "    </g>\n",
              "</svg>\n",
              "  </button>\n",
              "\n",
              "<style>\n",
              "  .colab-df-quickchart {\n",
              "      --bg-color: #E8F0FE;\n",
              "      --fill-color: #1967D2;\n",
              "      --hover-bg-color: #E2EBFA;\n",
              "      --hover-fill-color: #174EA6;\n",
              "      --disabled-fill-color: #AAA;\n",
              "      --disabled-bg-color: #DDD;\n",
              "  }\n",
              "\n",
              "  [theme=dark] .colab-df-quickchart {\n",
              "      --bg-color: #3B4455;\n",
              "      --fill-color: #D2E3FC;\n",
              "      --hover-bg-color: #434B5C;\n",
              "      --hover-fill-color: #FFFFFF;\n",
              "      --disabled-bg-color: #3B4455;\n",
              "      --disabled-fill-color: #666;\n",
              "  }\n",
              "\n",
              "  .colab-df-quickchart {\n",
              "    background-color: var(--bg-color);\n",
              "    border: none;\n",
              "    border-radius: 50%;\n",
              "    cursor: pointer;\n",
              "    display: none;\n",
              "    fill: var(--fill-color);\n",
              "    height: 32px;\n",
              "    padding: 0;\n",
              "    width: 32px;\n",
              "  }\n",
              "\n",
              "  .colab-df-quickchart:hover {\n",
              "    background-color: var(--hover-bg-color);\n",
              "    box-shadow: 0 1px 2px rgba(60, 64, 67, 0.3), 0 1px 3px 1px rgba(60, 64, 67, 0.15);\n",
              "    fill: var(--button-hover-fill-color);\n",
              "  }\n",
              "\n",
              "  .colab-df-quickchart-complete:disabled,\n",
              "  .colab-df-quickchart-complete:disabled:hover {\n",
              "    background-color: var(--disabled-bg-color);\n",
              "    fill: var(--disabled-fill-color);\n",
              "    box-shadow: none;\n",
              "  }\n",
              "\n",
              "  .colab-df-spinner {\n",
              "    border: 2px solid var(--fill-color);\n",
              "    border-color: transparent;\n",
              "    border-bottom-color: var(--fill-color);\n",
              "    animation:\n",
              "      spin 1s steps(1) infinite;\n",
              "  }\n",
              "\n",
              "  @keyframes spin {\n",
              "    0% {\n",
              "      border-color: transparent;\n",
              "      border-bottom-color: var(--fill-color);\n",
              "      border-left-color: var(--fill-color);\n",
              "    }\n",
              "    20% {\n",
              "      border-color: transparent;\n",
              "      border-left-color: var(--fill-color);\n",
              "      border-top-color: var(--fill-color);\n",
              "    }\n",
              "    30% {\n",
              "      border-color: transparent;\n",
              "      border-left-color: var(--fill-color);\n",
              "      border-top-color: var(--fill-color);\n",
              "      border-right-color: var(--fill-color);\n",
              "    }\n",
              "    40% {\n",
              "      border-color: transparent;\n",
              "      border-right-color: var(--fill-color);\n",
              "      border-top-color: var(--fill-color);\n",
              "    }\n",
              "    60% {\n",
              "      border-color: transparent;\n",
              "      border-right-color: var(--fill-color);\n",
              "    }\n",
              "    80% {\n",
              "      border-color: transparent;\n",
              "      border-right-color: var(--fill-color);\n",
              "      border-bottom-color: var(--fill-color);\n",
              "    }\n",
              "    90% {\n",
              "      border-color: transparent;\n",
              "      border-bottom-color: var(--fill-color);\n",
              "    }\n",
              "  }\n",
              "</style>\n",
              "\n",
              "  <script>\n",
              "    async function quickchart(key) {\n",
              "      const quickchartButtonEl =\n",
              "        document.querySelector('#' + key + ' button');\n",
              "      quickchartButtonEl.disabled = true;  // To prevent multiple clicks.\n",
              "      quickchartButtonEl.classList.add('colab-df-spinner');\n",
              "      try {\n",
              "        const charts = await google.colab.kernel.invokeFunction(\n",
              "            'suggestCharts', [key], {});\n",
              "      } catch (error) {\n",
              "        console.error('Error during call to suggestCharts:', error);\n",
              "      }\n",
              "      quickchartButtonEl.classList.remove('colab-df-spinner');\n",
              "      quickchartButtonEl.classList.add('colab-df-quickchart-complete');\n",
              "    }\n",
              "    (() => {\n",
              "      let quickchartButtonEl =\n",
              "        document.querySelector('#df-5ba50acd-3117-4ed9-b846-269f3a19e647 button');\n",
              "      quickchartButtonEl.style.display =\n",
              "        google.colab.kernel.accessAllowed ? 'block' : 'none';\n",
              "    })();\n",
              "  </script>\n",
              "</div>\n",
              "\n",
              "  <div id=\"id_b98d9d37-892d-42f5-92d9-4953da52de21\">\n",
              "    <style>\n",
              "      .colab-df-generate {\n",
              "        background-color: #E8F0FE;\n",
              "        border: none;\n",
              "        border-radius: 50%;\n",
              "        cursor: pointer;\n",
              "        display: none;\n",
              "        fill: #1967D2;\n",
              "        height: 32px;\n",
              "        padding: 0 0 0 0;\n",
              "        width: 32px;\n",
              "      }\n",
              "\n",
              "      .colab-df-generate:hover {\n",
              "        background-color: #E2EBFA;\n",
              "        box-shadow: 0px 1px 2px rgba(60, 64, 67, 0.3), 0px 1px 3px 1px rgba(60, 64, 67, 0.15);\n",
              "        fill: #174EA6;\n",
              "      }\n",
              "\n",
              "      [theme=dark] .colab-df-generate {\n",
              "        background-color: #3B4455;\n",
              "        fill: #D2E3FC;\n",
              "      }\n",
              "\n",
              "      [theme=dark] .colab-df-generate:hover {\n",
              "        background-color: #434B5C;\n",
              "        box-shadow: 0px 1px 3px 1px rgba(0, 0, 0, 0.15);\n",
              "        filter: drop-shadow(0px 1px 2px rgba(0, 0, 0, 0.3));\n",
              "        fill: #FFFFFF;\n",
              "      }\n",
              "    </style>\n",
              "    <button class=\"colab-df-generate\" onclick=\"generateWithVariable('final_df_2')\"\n",
              "            title=\"Generate code using this dataframe.\"\n",
              "            style=\"display:none;\">\n",
              "\n",
              "  <svg xmlns=\"http://www.w3.org/2000/svg\" height=\"24px\"viewBox=\"0 0 24 24\"\n",
              "       width=\"24px\">\n",
              "    <path d=\"M7,19H8.4L18.45,9,17,7.55,7,17.6ZM5,21V16.75L18.45,3.32a2,2,0,0,1,2.83,0l1.4,1.43a1.91,1.91,0,0,1,.58,1.4,1.91,1.91,0,0,1-.58,1.4L9.25,21ZM18.45,9,17,7.55Zm-12,3A5.31,5.31,0,0,0,4.9,8.1,5.31,5.31,0,0,0,1,6.5,5.31,5.31,0,0,0,4.9,4.9,5.31,5.31,0,0,0,6.5,1,5.31,5.31,0,0,0,8.1,4.9,5.31,5.31,0,0,0,12,6.5,5.46,5.46,0,0,0,6.5,12Z\"/>\n",
              "  </svg>\n",
              "    </button>\n",
              "    <script>\n",
              "      (() => {\n",
              "      const buttonEl =\n",
              "        document.querySelector('#id_b98d9d37-892d-42f5-92d9-4953da52de21 button.colab-df-generate');\n",
              "      buttonEl.style.display =\n",
              "        google.colab.kernel.accessAllowed ? 'block' : 'none';\n",
              "\n",
              "      buttonEl.onclick = () => {\n",
              "        google.colab.notebook.generateWithVariable('final_df_2');\n",
              "      }\n",
              "      })();\n",
              "    </script>\n",
              "  </div>\n",
              "\n",
              "    </div>\n",
              "  </div>\n"
            ],
            "application/vnd.google.colaboratory.intrinsic+json": {
              "type": "dataframe",
              "variable_name": "final_df_2"
            }
          },
          "metadata": {},
          "execution_count": 35
        }
      ]
    },
    {
      "cell_type": "code",
      "source": [
        "final_df_2['Maximum_Wait_Time'] = final_df_2['Maximum_Wait_Time'].apply(lambda x: 60 if \"More than 60 minutes\" in x else int(x.split()[0]))"
      ],
      "metadata": {
        "id": "00XbcL3mAroJ"
      },
      "execution_count": 36,
      "outputs": []
    },
    {
      "cell_type": "markdown",
      "source": [
        "Shuffle final dataset and save to csv"
      ],
      "metadata": {
        "id": "xjb65GHK7fqx"
      }
    },
    {
      "cell_type": "code",
      "source": [
        "final_df_2 = final_df_2.sample(frac=1, random_state=42)  # frac=1 means sample all rows"
      ],
      "metadata": {
        "id": "BHabeYvs7fId"
      },
      "execution_count": 37,
      "outputs": []
    },
    {
      "cell_type": "code",
      "source": [
        "final_df_2.to_csv(\"D2.csv\", index=False)"
      ],
      "metadata": {
        "id": "mFME_2X37qpJ"
      },
      "execution_count": 38,
      "outputs": []
    },
    {
      "cell_type": "markdown",
      "source": [
        "Finally get dataset D2 + D5:"
      ],
      "metadata": {
        "id": "_RHGeY1xOQqZ"
      }
    },
    {
      "cell_type": "code",
      "source": [
        "dataset_merged = pd.concat([final_df_2, final_df_5], axis=1)"
      ],
      "metadata": {
        "id": "EPOiBsw_OVlh"
      },
      "execution_count": 39,
      "outputs": []
    },
    {
      "cell_type": "code",
      "source": [
        "dataset_merged.to_csv(\"Dataset.csv\", index=False)"
      ],
      "metadata": {
        "id": "wrZz5zNyOZrR"
      },
      "execution_count": 40,
      "outputs": []
    }
  ],
  "metadata": {
    "colab": {
      "provenance": []
    },
    "kernelspec": {
      "display_name": "Python 3",
      "name": "python3"
    },
    "language_info": {
      "name": "python"
    }
  },
  "nbformat": 4,
  "nbformat_minor": 0
}