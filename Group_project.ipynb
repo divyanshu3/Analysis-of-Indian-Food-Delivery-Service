{
  "cells": [
    {
      "cell_type": "markdown",
      "metadata": {
        "id": "Hi55_q41tnSQ"
      },
      "source": [
        "## COMP5721M: Programming for Data Science\n",
        "\n",
        "## Group project (Coursework 2): Data Analysis Project\n",
        "\n",
        "\n",
        "# **_Analysis of Indian food delivery service_**\n",
        "\n",
        "\n",
        "_Give names and emails of group members here:_\n",
        "\n",
        "* Divyanshu Sinha, gkrm7654@leeds.ac.uk\n",
        "* Venkatraj Venkatesh, gbqh0993@leeds.ac.uk\n",
        "* Tejaswini Singanamala, bdnh0150@leeds.ac.uk\n",
        "* Aradhya Khandeparker, lmfx5605@leeds.ac.uk"
      ]
    },
    {
      "cell_type": "markdown",
      "metadata": {
        "id": "P4kgWkdItnSU"
      },
      "source": [
        "# Project Plan\n",
        "\n",
        "## The Data (10 marks)\n",
        "\n",
        "In this project, we are working with five datasets from Kaggle competitions and public datasets in the Indian Inline Food Delivery domain.\n",
        "The datasets are as follows:\n",
        "1. Swiggy Restaurants Dataset of Metro Cities (https://www.kaggle.com/datasets/aniruddhapa/swiggy-restaurants-dataset-of-metro-cities).\n",
        "2. Online Food Delivery Preferences-Bangalore region (https://www.kaggle.com/datasets/benroshan/online-food-delivery-preferencesbangalore-region/data).\n",
        "3. Restaurants Dataset | Swiggy (https://www.kaggle.com/datasets/ashishjangra27/swiggy-restaurants-dataset).\n",
        "4. Zomato (https://www.kaggle.com/datasets/rishikeshkonapure/zomato).\n",
        "5. Zomato Delivery Operations Analytics Dataset (https://www.kaggle.com/datasets/saurabhbadole/zomato-delivery-operations-analytics-dataset).\n",
        "\n",
        "\n",
        "* Data Cleaning\n",
        "\n",
        "After downloading the datasets, we applied standard cleaning procedures such as:\n",
        "\n",
        "  1.   Handling missing values: Columns with missing data were either filled with default values (such as 0 or the column mean) or dropped if the data was irrelevant.\n",
        "  2.   Data type correction: Columns were checked and converted to appropriate data types, such as ensuring that date columns were in datetime format and numeric columns were integers or floats.\n",
        "  3.   Outlier detection: We examined the data for extreme outliers, particularly in financial or product pricing columns, and applied techniques like capping or removal if necessary.\n",
        "  4.   Normalization and scaling: Some datasets contained numerical values on different scales, so we normalized or scaled them to ensure consistency for later analysis.\n",
        "\n",
        "\n",
        "* Merging Datasets\n",
        "\n",
        "The next step involves identifying common columns across the datasets that allow us to merge them. For instance, if one dataset contains transaction data with a user_id and another dataset contains customer demographic information with the same user_id, this column can serve as a key to merge the two datasets.\n",
        "\n",
        "First Merge: We merged Dataset 1 (transactions) and Dataset 2 (customer information) using user_id as the common key. This dataset now contains both transactional data and customer demographic details (e.g., age, location).\n",
        "\n",
        "Second Merge: The newly merged dataset is then joined with Dataset 3 (product details) using the product_id column, which gives us a complete view of the customer’s interaction with specific products. This allows us to understand not just what the customer bought, but also details like product category, price, and brand.\n",
        "\n",
        "Third Merge: We continue the process by merging this enriched dataset with Dataset 4 (product ratings), where the common column is product_id again. This adds a layer of customer feedback (ratings, reviews) to the dataset, offering insight into the satisfaction level with products purchased.\n",
        "\n",
        "Final Merge: Lastly, the combined dataset is merged with Dataset 5 (transactional metadata) using transaction_id, adding more contextual information about the purchase event, such as time of purchase, payment method, and transaction status.\n",
        "\n",
        "* Description of the Merged Dataset\n",
        "\n",
        "At the end of the merging process, the final dataset contains information about customers, restaurants, order details, and customer feedback. The columns in this dataset include:\n",
        "\n",
        "Order_Id: This is a unique Id for every order. Values include alphanumeric strings.\n",
        "\n",
        "Customer_Name\t: This is the customer's name. Values are strings.\n",
        "\n",
        "Age\t: This is the age of the customer. Values are numeric.\n",
        "\n",
        "Gender\tThis is the gender of the customer. Values are either Male(M) or Female(F).\n",
        "\n",
        "Marital_Status : This is the marital status of the customer. Values are either Single, Married or Prefer not to say.\n",
        "\n",
        "Occupation\t: This is the occupation of the customer. Values are either Student, Employee, Self Employed or House wife.\n",
        "\n",
        "Monthly_Income\t: This is the monthly income of the customer. Values are numeric.\n",
        "\n",
        "Order_Preference(via direct call/app/website)\t: This is how a customer preferes to order from a restaurant. Values are either Direct Call, Walk-in, or Food Delivery Apps (Zomato or Swiggy).\n",
        "\n",
        "\n",
        "Restaurant_Name\t: This is the name of the restaurant. Values are a string.\n",
        "\n",
        "City\t: This is the name of the the city where the restaurant is located. Values are a stirng.\n",
        "\n",
        "Area\t: This is the specific area of the city. Values are a string.\n",
        "\n",
        "\n",
        "Cuisine\t: This is the cuisine that a restaurant serves. Values are a comma separated string.\n",
        "\n",
        "Veg/NonVeg\t: This is the type of food that a restaurant serves. Values are either Veg or Non Veg.\n",
        "\n",
        "\n",
        "Delivery_time\t: This is the time it takes to deliver the order to the customer. Values are numeric.\n",
        "\n",
        "Total_Order_Value\t: This is the total amount a customer spends on an order. Values are numeric.\n",
        "\n",
        "Meal_Type\t: This is the tyoe of meal a customer orders. Values are either Breakfast, Lunch or Dinner.\n",
        "\n",
        "\n",
        "Dish_Liked\t: This is the dish which a customer likes the most. Values are a string.\n",
        "\n",
        "Average_Rating\t: This is Average rating of a restaurant. Values range from 0 to 5.\n",
        "\n",
        "Total_Rating String \t: This is the total number of ratings for a restaurant. Values are a string.\n",
        "\n",
        "\n",
        "Influence_of _Rating\t:This is whether the rating of a restaurant influence a customer to order from a restaurant. Values are either Yes, No or Maybe.\n",
        "\n",
        "\n",
        "Freshness_of_Food\t: This is the importance of freshness of food. Values are either Important, Very Important, Slightly Important, Moderately Important or Unimportant.\n",
        "\n",
        "\n",
        "Temperature_of_food\t: This is the importance of temperature of food. Values are either Important, Very Important, Slightly Important, Moderately Important or Unimportant.\n",
        "\n",
        "Taste_of_Food(good taste)\t: This is the importance of taste of food. Values are either Important, Very Important, Slightly Important, Moderately Important or Unimportant.\n",
        "\n",
        "\n",
        "Quantity_of_Food (good quantity)\t: This is the importance of quantity of food. Values are either Important, Very Important, Slightly Important, Moderately Important or Unimportant.\n",
        "\n",
        "Food_Quality\t: This is the importance of quality of food. Values are either Agree, Strongly Agree, Neutral, Disagree or Strongly Disagree.\n",
        "\n",
        "Poor_hygene\t: This is the importance of hygene of restaurant. Values are either Agree, Strongly Agree, Neutral, Disagree or Strongly Disagree.\n",
        "\n",
        "\n",
        "Bad_Past_Experience\t: This is the importance of bad past experience of ordering from the restaurant. Values are either Agree, Strongly Agree, Neutral, Disagree or Strongly Disagree.\n",
        "\n",
        "\n",
        "High_Quality_Of_Package\t: This is the importance of quality of packaging of food provided by the restaurant. Values are either Important, Very Important, Slightly Important, Moderately Important or Unimportant.\n",
        "\n",
        "\n",
        "Late_Delivery\t:  This is the importance of timely delivery from the restaurant. Values are either Agree, Strongly Agree, Neutral, Disagree or Strongly Disagree.\n",
        "\n",
        "Long_Delivery_Time\t: This is whether long delivery time causes cancellation of order. Values are either Agree, Strongly Agree, Neutral, Disagree or Strongly Disagree.\n",
        "\n",
        "Delay_of_delivery_person_getting_assigned\t: This is whether delay of delivery person getting assigned causes cancellation of order. Values are either Agree, Strongly Agree, Neutral, Disagree or Strongly Disagree.\n",
        "\n",
        "Delay_of_delivery_person_picking _up_food\t: This is whether delay of delivery person picking up food causes cancellation of order. Values are either Agree, Strongly Agree, Neutral, Disagree or Strongly Disagree\n",
        "\n",
        "\n",
        "Maximum_Wait_Time\t: This is how long a customer can wait for food delivery. Values are in inerval of 15 minutes (15/30/45/60/>60).\n",
        "\n",
        "Less_Delivery_Time :\tThis is the importance of less delivery time of deliverign food from the restaurant. Values are either Important, Very Important, Slightly Important, Moderately Important or Unimportant.\n",
        "\n",
        "\n",
        "Wrong_Order_Delivered \t: This is whether wrong order delivered causes cancellation of order. Values are either Agree, Strongly Agree, Neutral, Disagree or Strongly Disagree.\n",
        "\n",
        "Missing_Item : This is whether missing item causes cancellation of order. Values are either Agree, Strongly Agree, Neutral, Disagree or Strongly Disagree.\n",
        "\n",
        "Order_Placed_By_Mistake\t: This is whether order placed by mistake causes cancellation of order. Values are either Agree, Strongly Agree, Neutral, Disagree or Strongly Disagree.\n",
        "\n",
        "\n",
        "Order_Date : This is the date when the order was placed. Value is a date.\n",
        "\n",
        "Time_Ordered\t: This is the time when a order was placed. Value is time.\n",
        "\n",
        "Time_Order_Pickup\t: This is the time when the order was picked up. Value is time.\n",
        "\n",
        "Weather_Condition\t: This is the weather condition of the area where the restaurant and customer are located. Value is a string.\n",
        "\n",
        "\n",
        "* Data Quality and Accuracy\n",
        "\n",
        "Since the data comes from Kaggle, the quality and accuracy of each dataset can vary. Generally, Kaggle datasets are curated and pre-processed, but it’s still important to check the quality of the data post-cleaning. We performed rigorous cleaning steps, ensuring that the columns were consistent, the data types were correct, and any missing or anomalous values were addressed. However, the accuracy of the data ultimately depends on the sources from which it was collected. If the original data collection process had inaccuracies or biases, these would carry over to our dataset. As part of our analysis, we will need to account for this potential uncertainty, particularly when using the data for decision-making.\n",
        "\n",
        "\n",
        "By carefully merging and cleaning these five datasets, we now have a robust dataset that combines customer, restaurant, and order data. This data allows us to perform detailed analyses, uncover insights, and make data-driven business decisions, such as identifying customer trends, evaluating product performance, and predicting future sales patterns.\n",
        "\n",
        "\n",
        "\n",
        "## Project Aim and Objectives (5 marks)\n",
        "\n",
        "The project focuses on a comprehensive analysis of the Indian food delivery services market, aiming to uncover critical insights into customer behaviour, restaurant performance, and evolving market trends. With the rapid growth of food delivery services, particularly due to technological advancements and the proliferation of smartphones, understanding these dynamics has become increasingly vital for businesses in this sector.\n",
        "\n",
        "One of the primary objectives of this study is to delve into customer demographics. By analysing variables such as age, income level, and geographic location, the project will identify how different population segments engage with food delivery services. Furthermore, it will explore order patterns and preferences regarding cuisines, highlighting favourites among consumers and the factors that influence their choices. This includes examining feedback and ratings provided by customers, which can reveal the drivers of satisfaction and loyalty in a highly competitive market.\n",
        "\n",
        "In parallel, the project will evaluate restaurant performance using various metrics such as order volume and revenue generation. This assessment will help identify top-performing establishments and those in need of improvement. Understanding how restaurants respond to customer feedback is crucial for enhancing service quality and overall dining experience.\n",
        "\n",
        "Additionally, the study will analyse revenue trends, seeking emerging opportunities within the Indian food delivery landscape. A significant focus will be placed on major players in the industry, including Swiggy and Zomato, to understand how they adapt to ever-changing market demands. Insights into pricing strategies, delivery speed, and service quality will provide a clearer picture of consumer preferences and spending habits across different regions. Ultimately, the findings of this project will equip businesses with actionable insights to thrive in a dynamic marketplace.\n",
        "\n",
        "### Specific Objective(s)\n",
        "\n",
        "_You should chose and list __up to 4__ specific objectives suited to the data you will be working with and the type of project you wish to carry out.\n",
        "There should be <b>at least one\n",
        "per person doing the project</b>. There is no need\n",
        "for  the objectives them to be completely different.\n",
        "They could be different\n",
        "stages of the processing requirements, or different processing\n",
        "functions that the system  provides. Or just\n",
        "different aspects of data analysis that will be conducted.\n",
        "Typically, it is expected that there would be one objective\n",
        "per person. Replace the following examples with your own objectives:_\n",
        "\n",
        "* __Objective 1:__ _create a Python datastructure that will ensure world peace_\n",
        "* __Objective 2:__ _stop global warming using a pandas dataframe_\n",
        "* __Objective 3:__ _end poverty using matplotlib_\n",
        "* __Objective 4:__ _end suffering with sklearn_\n",
        "\n",
        "## System Design (5 marks)\n",
        "\n",
        "\n",
        "### Architecture\n",
        "\n",
        "![PDS_GP.png](data:image/png;base64,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)\n",
        "  \n",
        "In the system architecture we have 7 steps as described below:  \n",
        "\n",
        "1. Gather the Data: Collect datasets from Kaggle as described in the previous section.\n",
        "\n",
        "2. Clean Individual Datasets: Perform data cleaning for each dataset, addressing missing values, correcting data types, and removing outliers to ensure consistency and accuracy.\n",
        "\n",
        "3. Choose Required Columns: Select the relevant columns from each dataset that align with the analysis objectives, ensuring they contain necessary information.\n",
        "\n",
        "4. Merge Datasets: Merge the datasets sequentially based on common columns (e.g., Order_Id, Restaurant_Name), enriching the dataset with additional features.\n",
        "\n",
        "5. Perform Data Simulation: Simulate missing or hypothetical data where necessary to enhance dataset completeness and improve model accuracy.\n",
        "\n",
        "6. Dataset Successfully Prepared: Ensure the final merged dataset is ready for analysis, containing clean and relevant data.\n",
        "\n",
        "7. Perform Data Visualization: Use visualization tools to explore and present key insights from the prepared data.\n",
        "\n",
        "\n",
        "### Processing Modules and Algorithms\n",
        "\n",
        "_Briefly list and describe the most significant computational components of your system and the algorithms you will use to implement them.\n",
        "This could include things like:_\n",
        "\n",
        "* _cleaning the data by removing outliers_\n",
        "* _combining different datasets_\n",
        "* _converting samples to a special representaion (such as feature vectors)_\n",
        "* _constructing a special data-structure (such as a decision tree)_\n",
        "* _running some kind of analysis_\n",
        "\n",
        "_Your list can be presented in similar form to the one just given,\n",
        "but should include a brief\n",
        "but more specific description of the components and/or algorithms.\n",
        "Probably three or four components is sufficient for most projects, but\n",
        "you may want to have more._"
      ]
    },
    {
      "cell_type": "markdown",
      "metadata": {
        "id": "q0usayw_tnSV"
      },
      "source": [
        "# Program Code (15 marks)\n",
        "\n",
        "_Your code should be divided into relatively short cells, with brief\n",
        "explanation in markup cells between._\n",
        "\n",
        "_As noted in the assigment overview, it is not necessary that your coding be\n",
        "super complex in order to get a good mark. Although there is a mark for\n",
        "the coding achievement, it is only a quarter of the total._\n",
        "\n",
        "_The suggested length of the code is about 150 lines for 1 person or 500\n",
        "for a 4 peope project. You should not use more than 500 lines of code._\n",
        "\n",
        "_You should divide the code in accordance with the specification of modules and/or\n",
        "algorithms you gave in the previous section. Complex modules should be further\n",
        "divided into several code cells._\n",
        "\n",
        "Please note the following about your code:\n",
        "* <b><i>You may import any packages/modules you wish to use for your project.</i></b>\n",
        "\n",
        "\n",
        "* <b><i>You should submit your notebook in a state where all cells have been\n",
        "    executed and are displaying the output that you wish to present for grading.</i></b>\n",
        "    (We will not normally run your code, unless for some reason we wish to check\n",
        "    that the code functionality matches the given description.)\n",
        "    \n",
        "    \n",
        "* Although you may be programming in a \"pipeline\" style, it is strongly suggested you use function definitions to organise your code. As well as being generally good programming practice, it will be helpful for easy and flexibily presentation of results visualisations later in the document. In the visualisation sections you will be able to produce images in a concise and flexible way by calling functions defined in the program code secion."
      ]
    },
    {
      "cell_type": "markdown",
      "metadata": {
        "id": "LvvC17GgtnSW"
      },
      "source": [
        "#### _Brief Explanation of following code cell_\n",
        "\n",
        "_Below is a silly example of some trivial data. Replace this markup cell and the one below with something more interesting. And go on adding more until you have\n",
        "achieved your objectives (at least to some extent)._"
      ]
    },
    {
      "cell_type": "code",
      "execution_count": null,
      "metadata": {
        "id": "dfU1k2TQtnSW",
        "outputId": "74e3f925-673c-4f97-8e6b-1bb1e90a5362"
      },
      "outputs": [
        {
          "name": "stdout",
          "output_type": "stream",
          "text": [
            "The total number of fridge magnets is: 66\n"
          ]
        }
      ],
      "source": [
        "## Code Cell\n",
        "## This will typically consist of:\n",
        "\n",
        "## (a) Code doing some data manipulation:\n",
        "\n",
        "fm_data = { \"souvenir\"     :  9,\n",
        "            \"cute animal\"  :  5,\n",
        "            \"meme\"         : 36,\n",
        "            \"smiley\"       :  3,\n",
        "            \"random image\" : 13\n",
        "          }\n",
        "total = sum([fm_data[f] for f in fm_data])\n",
        "\n",
        "## (b) Code for displaying some output:\n",
        "\n",
        "print(\"The total number of fridge magnets is:\", total)"
      ]
    },
    {
      "cell_type": "markdown",
      "metadata": {
        "id": "WTmIuCWjtnSY"
      },
      "source": [
        "#### _Comment on previous cell output (optional)_\n",
        "\n",
        "_As well as describing code, it will in many cases be informative to describe the output\n",
        "that has been generated by a cell._\n",
        "\n",
        "_The previous output cell shows a key number in our fridge magnet analysis._"
      ]
    },
    {
      "cell_type": "markdown",
      "metadata": {
        "id": "iqkQFRdrtnSZ"
      },
      "source": [
        "#### _Brief Explanation of following code cell_\n",
        "\n",
        "_Since fridge magnets often take the form of cute animals, we use `pandas` to convert the raw data into a `DataFrame`._"
      ]
    },
    {
      "cell_type": "code",
      "execution_count": null,
      "metadata": {
        "id": "mASMXpMytnSZ",
        "outputId": "540ed09a-841c-4b23-946a-b4691c68255c"
      },
      "outputs": [
        {
          "data": {
            "text/html": [
              "<div>\n",
              "<style scoped>\n",
              "    .dataframe tbody tr th:only-of-type {\n",
              "        vertical-align: middle;\n",
              "    }\n",
              "\n",
              "    .dataframe tbody tr th {\n",
              "        vertical-align: top;\n",
              "    }\n",
              "\n",
              "    .dataframe thead th {\n",
              "        text-align: right;\n",
              "    }\n",
              "</style>\n",
              "<table border=\"1\" class=\"dataframe\">\n",
              "  <thead>\n",
              "    <tr style=\"text-align: right;\">\n",
              "      <th></th>\n",
              "      <th>0</th>\n",
              "    </tr>\n",
              "  </thead>\n",
              "  <tbody>\n",
              "    <tr>\n",
              "      <th>souvenir</th>\n",
              "      <td>9</td>\n",
              "    </tr>\n",
              "    <tr>\n",
              "      <th>cute animal</th>\n",
              "      <td>5</td>\n",
              "    </tr>\n",
              "    <tr>\n",
              "      <th>meme</th>\n",
              "      <td>36</td>\n",
              "    </tr>\n",
              "    <tr>\n",
              "      <th>smiley</th>\n",
              "      <td>3</td>\n",
              "    </tr>\n",
              "    <tr>\n",
              "      <th>random image</th>\n",
              "      <td>13</td>\n",
              "    </tr>\n",
              "  </tbody>\n",
              "</table>\n",
              "</div>"
            ],
            "text/plain": [
              "               0\n",
              "souvenir       9\n",
              "cute animal    5\n",
              "meme          36\n",
              "smiley         3\n",
              "random image  13"
            ]
          },
          "execution_count": 30,
          "metadata": {},
          "output_type": "execute_result"
        }
      ],
      "source": [
        "## Code Cell\n",
        "import pandas\n",
        "df = pandas.DataFrame.from_dict(fm_data, orient='index')\n",
        "df"
      ]
    },
    {
      "cell_type": "markdown",
      "metadata": {
        "id": "2BZ8_H3ntnSZ"
      },
      "source": [
        "#### _Comment on previous cell output (optional)_\n",
        "_The output from the previous cell is very interesting._"
      ]
    },
    {
      "cell_type": "markdown",
      "metadata": {
        "id": "5JSGknTFtnSZ"
      },
      "source": [
        "_The following cell defines a visualisation function for the data._"
      ]
    },
    {
      "cell_type": "code",
      "execution_count": null,
      "metadata": {
        "id": "KiRHn6aQtnSa"
      },
      "outputs": [],
      "source": [
        "def fridge_sorted_bar(color='blue'):\n",
        "    df.sort_values(0).plot.bar( color=color)"
      ]
    },
    {
      "cell_type": "markdown",
      "metadata": {
        "id": "qZ0NLfsZtnSa"
      },
      "source": [
        "###  _More code cells_\n",
        "_You can add as many code cells as you require, but it is\n",
        "recommended that you break code into relatively small chunks and\n",
        "do not exceed the maximum number of lines stated above._"
      ]
    },
    {
      "cell_type": "markdown",
      "metadata": {
        "id": "iusKljLLtnSa"
      },
      "source": [
        "# Project Outcome (10 + 10 marks)\n",
        "\n",
        "_This section should describe the outcome of the project by means of both explanation of the results and by graphical visualisation in the form of graphs, charts or or other kinds of diagram_\n",
        "\n",
        "_The section should begin with a general overview of the results and then have a section for each of the project objectives. For each of these objectives an explanation of more specific results relating to that objective shoud be given, followed by a section presenting some visualisation of the results obtained. (In the case where\n",
        "the project had just one objective, you should still have a section describing\n",
        "the results from a general perspective followed by a section that focuses on\n",
        "the particular objective.)_\n",
        "\n",
        "_The marks for this section will be divided into 10 marks for Explanation\n",
        "and 10 marks for Visualisation. These marks will be awarded for the Project Outcome\n",
        "section as a whole, not for each objective individually. Hence, you do not\n",
        "have to pay equal attention to each. However, you are expected to have a\n",
        "some explanation and visualisation for each. It is suggested you have\n",
        "200-400 words explanation for each objective._"
      ]
    },
    {
      "cell_type": "markdown",
      "metadata": {
        "id": "jlQnBERttnSa"
      },
      "source": [
        "## Overview of Results\n",
        "_Give a general overview of the results (around 200 words)._"
      ]
    },
    {
      "cell_type": "markdown",
      "metadata": {
        "id": "LUNjBuiutnSa"
      },
      "source": [
        "## Objective 1\n",
        "\n",
        "### Explanation of Results\n",
        "\n",
        "_200-400 words_\n",
        "\n",
        "### Visualisation\n",
        "_The following bar chart gives a vivid representation of the distribution\n",
        "of fridge magnet types, in which the dominance of 'meme' type magnets\n",
        "is dramatically illustrated._"
      ]
    },
    {
      "cell_type": "code",
      "execution_count": null,
      "metadata": {
        "id": "v6ySuz0ztnSa",
        "outputId": "f0f42e49-25a4-49d0-de8d-d154deb98542"
      },
      "outputs": [
        {
          "data": {
            "image/png": "[encoded data removed]",
            "text/plain": [
              "<Figure size 432x288 with 1 Axes>"
            ]
          },
          "metadata": {
            "needs_background": "light"
          },
          "output_type": "display_data"
        }
      ],
      "source": [
        "fridge_sorted_bar(color='red')"
      ]
    },
    {
      "cell_type": "markdown",
      "metadata": {
        "id": "eMIH4DM6tnSb"
      },
      "source": [
        "## Objective 2\n",
        "### Explanation of Results\n",
        "\n",
        "200-400 Words\n",
        "\n",
        "### Visualisation"
      ]
    },
    {
      "cell_type": "markdown",
      "metadata": {
        "id": "AKzFgp3YtnSb"
      },
      "source": [
        "## Objective 3\n",
        "### Explanation of Results\n",
        "\n",
        "200-400 Words\n",
        "\n",
        "### Visualisation"
      ]
    },
    {
      "cell_type": "markdown",
      "metadata": {
        "id": "M9Jc8RM1tnSb"
      },
      "source": [
        "## Objective 4\n",
        "### Explanation of Results\n",
        "\n",
        "200-400 Words\n",
        "\n",
        "### Visualisation"
      ]
    },
    {
      "cell_type": "markdown",
      "metadata": {
        "id": "w8TVjbmvtnSb"
      },
      "source": [
        "# Conclusion (5 marks)\n",
        "\n",
        "_Your concluding section should be around 200-400 words. It is recommended\n",
        "that you divide it into the following sections._\n",
        "\n",
        "### Achievements\n",
        "_As we had expected, the most popular fridge magnets were of the 'meme' kind.\n",
        "We were surprised that 'smiley' fridge magnets were less common than expected.\n",
        "We conjecture that this is because, although they are apparently very popular,\n",
        "few fridges display more than one smiley. However, 'meme' based magnets can\n",
        "be found in large numbers, even on quite small fridges._\n",
        "\n",
        "### Limitations\n",
        "\n",
        "_The project was limited to a small number of fridge magents, which may not be\n",
        "typical of fridges found in the global fridge magnet ecosystem._\n",
        "\n",
        "### Future Work\n",
        "\n",
        "_In future work we would like to obtain more diverse data and study fridge magnets\n",
        "beyond the limited confines of student accomodation. We hypothesise that there\n",
        "could be a link between fridge magnet types and social class and/or educational\n",
        "achievement._"
      ]
    }
  ],
  "metadata": {
    "kernelspec": {
      "display_name": "Python 3 (ipykernel)",
      "language": "python",
      "name": "python3"
    },
    "language_info": {
      "codemirror_mode": {
        "name": "ipython",
        "version": 3
      },
      "file_extension": ".py",
      "mimetype": "text/x-python",
      "name": "python",
      "nbconvert_exporter": "python",
      "pygments_lexer": "ipython3",
      "version": "3.9.12"
    },
    "colab": {
      "provenance": []
    }
  },
  "nbformat": 4,
  "nbformat_minor": 0
}