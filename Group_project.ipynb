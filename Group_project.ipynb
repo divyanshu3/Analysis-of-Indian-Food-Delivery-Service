{
  "cells": [
    {
      "cell_type": "markdown",
      "metadata": {
        "id": "Hi55_q41tnSQ"
      },
      "source": [
        "## COMP5721M: Programming for Data Science\n",
        "\n",
        "## Group project (Coursework 2): Data Analysis Project\n",
        "\n",
        "\n",
        "# **_Analysis of Indian Food Delivery Services_**\n",
        "\n",
        "\n",
        "_Give names and emails of group members here:_\n",
        "\n",
        "* Divyanshu Sinha, gkrm7654@leeds.ac.uk\n",
        "* Venkatraj Venkatesh, gbqh0993@leeds.ac.uk\n",
        "* Tejaswini Singanamala, bdnh0150@leeds.ac.uk\n",
        "* Aradhya Khandeparker, lmfx5605@leeds.ac.uk"
      ]
    },
    {
      "cell_type": "markdown",
      "metadata": {
        "id": "P4kgWkdItnSU"
      },
      "source": [
        "# Project Plan\n",
        "\n",
        "## The Data (10 marks)\n",
        "\n",
        "In this project, we are working with five datasets from Kaggle competitions and public datasets in the Indian Food Delivery domain.\n",
        "The datasets are as follows:\n",
        "1. Swiggy Restaurants Dataset of Metro Cities (https://www.kaggle.com/datasets/aniruddhapa/swiggy-restaurants-dataset-of-metro-cities).\n",
        "2. Online Food Delivery Preferences-Bangalore region (https://www.kaggle.com/datasets/benroshan/online-food-delivery-preferencesbangalore-region/data).\n",
        "3. Restaurants Dataset | Swiggy (https://www.kaggle.com/datasets/ashishjangra27/swiggy-restaurants-dataset).\n",
        "4. Zomato (https://www.kaggle.com/datasets/rishikeshkonapure/zomato).\n",
        "5. Zomato Delivery Operations Analytics Dataset (https://www.kaggle.com/datasets/saurabhbadole/zomato-delivery-operations-analytics-dataset).\n",
        "\n",
        "\n",
        "* Data Cleaning\n",
        "\n",
        "After downloading the datasets, we applied standard cleaning procedures such as:\n",
        "\n",
        "  1.   Handling missing values: Columns with missing data were either filled with default values (such as 0 or the column mean) or dropped if the data was irrelevant.\n",
        "  2.   Data type correction: Columns were checked and converted to appropriate data types, such as ensuring that date columns were in datetime format and numeric columns were integers or floats.\n",
        "  3.   Outlier detection: We examined the data for extreme outliers, and applied techniques like capping or removal if necessary.\n",
        "  4.   Normalization and scaling: Some datasets contained numerical values on different scales, so we normalized or scaled them to ensure consistency for later analysis.\n",
        "\n",
        "\n",
        "* Merging Datasets\n",
        "\n",
        "The next step involves identifying common columns across the datasets that allow us to merge them. For instance, if one dataset contains Restaurant data with an Order_Id and another dataset contains customer demographic information with the same Order_Id, this column can serve as a key to merge the two datasets.\n",
        "\n",
        "First Merge: We merged Dataset 1 (Swiggy Restaurants Dataset of Metro Cities), Dataset 3 (Restaurants Dataset | Swiggy) and Dataset 4 (Zomato) based on the common columns Restaurant_Name, City, Order_Id, Cuisine and so on.\n",
        "\n",
        "Second Merge: The newly merged dataset is then joined with Dataset 2 (Online Food Delivery Preferences-Bangalore region) and Dataset 5 (Zomato Delivery Operations Analytics Dataset). The final merged dataset now has all the columns needed for carrying out the data analysis according to the aim of the project.\n",
        "\n",
        "\n",
        "\n",
        "* Description of the Merged Dataset\n",
        "\n",
        "At the end of the merging process, the final dataset contains information about customers, restaurants, order details, and customer feedback. The columns in this dataset include:\n",
        "\n",
        "1. Order_Id: This column contains a unique Id for every order that a customer has placed on the app. Values are a alphanumeric string.\n",
        "\n",
        "2. Customer_Name\t: This column contains the name of the customer. Values are a string.\n",
        "\n",
        "3. Age\t: This column contains the age of the customer. Values are numeric ranging from 18 to 60.\n",
        "\n",
        "4. Gender\tThis column contains the gender of the customer. Values are either Male(M) or Female(F).\n",
        "\n",
        "5. Marital_Status : This column contains the marital status of the customer. Values are either Single, Married or Prefer not to say.\n",
        "\n",
        "6. Occupation\t: This column contains the occupation of the customer. Values are either Student, Employee, Self Employed or House wife.\n",
        "\n",
        "7. Monthly_Income\t: This column contains the monthly income of the customer. Values are either in the range No Income, Below Rs.10000, 10001 to 25000, 25001 to 50000 or More than 50000.\n",
        "\n",
        "8. App_Preferred\t: This column contains data on which app the customer used to order from a restaurant. Values are either Zomato or Swiggy.\n",
        "\n",
        "9. Restaurant_Name\t: This column contains the name of the restaurant. Values are a string.\n",
        "\n",
        "10. City\t: This column contains the name of the the city where the restaurant is located. Values are a string.\n",
        "\n",
        "11. Area\t: This column contains the specific area of the city. Values are a string.\n",
        "\n",
        "12. Cuisine\t: This column contains the cuisine that a restaurant serves. Values are a string.\n",
        "\n",
        "13. Veg/Non-Veg\t: This column contains the type of food that a restaurant serves. Values are either Veg or Non-Veg.\n",
        "\n",
        "14. Delivery_Time\t: This column contains the time it takes to deliver the order to the customer. Values are numeric.\n",
        "\n",
        "15. Total_Order_Value\t: This column contains the total amount a customer spends on the order. Values are numeric.\n",
        "\n",
        "16. Meal_Type\t: This column contains the type of meal a customer orders. Values are either Breakfast, Lunch, Snacks or Dinner.\n",
        "\n",
        "17. Dish_Liked\t: This column contains the dish which a customer likes the most. Values are a string.\n",
        "\n",
        "18. Average_Rating\t: This column contains Average rating of a restaurant. Values range from 1 to 5.\n",
        "\n",
        "19. Total_Rating String \t: This column contains the total number of ratings for a restaurant. Values are a string.\n",
        "\n",
        "20. Influence_of_Rating\t: This column contains whether the rating of a restaurant influence a customer to order from the restaurant. Values are either Yes, No or Maybe.\n",
        "\n",
        "21. Freshness_of_Food\t: This column contains the importance of freshness of food. Values are either Important, Very Important, Slightly Important, Moderately Important or Unimportant.\n",
        "\n",
        "22. Temperature_of_Food\t: This column contains the importance of temperature of food. Values are either Important, Very Important, Slightly Important, Moderately Important or Unimportant.\n",
        "\n",
        "23. Taste_of_Food\t: This column contains the importance of taste of food. Values are either Important, Very Important, Slightly Important, Moderately Important or Unimportant.\n",
        "\n",
        "24. Quantity_of_Food\t: This column contains the importance of quantity of food. Values are either Important, Very Important, Slightly Important, Moderately Important or Unimportant.\n",
        "\n",
        "25. Food_Quality\t: This column contains the importance of quality of food. Values are either Agree, Strongly Agree, Neutral, Disagree or Strongly Disagree.\n",
        "\n",
        "26. Poor_Hygiene\t: This column contains the importance of hygene of restaurant. Values are either Agree, Strongly Agree, Neutral, Disagree or Strongly Disagree.\n",
        "\n",
        "27. Bad_Past_Experience\t: This column contains the importance of bad past experience of ordering from the restaurant. Values are either Agree, Strongly Agree, Neutral, Disagree or Strongly Disagree.\n",
        "\n",
        "28. High_Quality_Of_Package\t: This column contains the importance of quality of packaging of food provided by the restaurant. Values are either Important, Very Important, Slightly Important, Moderately Important or Unimportant.\n",
        "\n",
        "29. Late_Delivery\t:  This column contains the importance of timely delivery from the restaurant. Values are either Agree, Strongly Agree, Neutral, Disagree or Strongly Disagree.\n",
        "\n",
        "30. Long_Delivery_Time\t: This column contains whether long delivery time causes cancellation of order. Values are either Agree, Strongly Agree, Neutral, Disagree or Strongly Disagree.\n",
        "\n",
        "31. Delay_of_Delivery_Person_Getting_Assigned\t: This column contains whether delay of delivery person getting assigned causes cancellation of order. Values are either Agree, Strongly Agree, Neutral, Disagree or Strongly Disagree.\n",
        "\n",
        "32. Delay_of_Delivery_Person_Picking_Up_Food\t: This column contains whether delay of delivery person picking up food causes cancellation of order. Values are either Agree, Strongly Agree, Neutral, Disagree or Strongly Disagree\n",
        "\n",
        "33. Maximum_Wait_Time\t: This column contains how long a customer can wait for food delivery. Values are either 15 minutes, 30 minutes, 45 minutes, 60 minutes, More than 60 minutes.\n",
        "\n",
        "34. Less_Delivery_Time :\tThis column contains the importance of less delivery time of deliverign food from the restaurant. Values are either Important, Very Important, Slightly Important, Moderately Important or Unimportant.\n",
        "\n",
        "35. Wrong_Order_Delivered \t: This column contains whether wrong order delivered causes cancellation of order. Values are either Agree, Strongly Agree, Neutral, Disagree or Strongly Disagree.\n",
        "\n",
        "36. Missing_Item : This column contains whether missing item causes cancellation of order. Values are either Agree, Strongly Agree, Neutral, Disagree or Strongly Disagree.\n",
        "\n",
        "37. Order_Placed_By_Mistake\t: This column contains whether order placed by mistake causes cancellation of order. Values are either Agree, Strongly Agree, Neutral, Disagree or Strongly Disagree.\n",
        "\n",
        "38. Order_Date : This column contains the date when the order was placed. Value is a Date.\n",
        "\n",
        "39. Order_Time\t: This column contains the time when a order was placed. Value is Time.\n",
        "\n",
        "40. Order_Pickup_Time\t: This column contains the time when the order was picked up. Value is Time.\n",
        "\n",
        "41. Weather_Conditions\t: This column contains the weather condition of the area where the restaurant and customer are located. Values are either in Cloudy, Fog, Rainy, Sandstorms, Stormy, Sunny or Windy.\n",
        "\n",
        "\n",
        "* Data Quality and Accuracy\n",
        "\n",
        "Since the data comes from Kaggle, the quality and accuracy of each dataset can vary. Generally, Kaggle datasets are curated and pre-processed, but it’s still important to check the quality of the data post-cleaning. We performed rigorous cleaning steps, ensuring that the columns were consistent, the data types were correct, and any missing or anomalous values were addressed. However, the accuracy of the data ultimately depends on the sources from which it was collected. If the original data collection process had inaccuracies or biases, these would carry over to our dataset. As part of our analysis, we will need to account for this potential uncertainty, particularly when using the data for decision-making.\n",
        "\n",
        "\n",
        "By carefully merging and cleaning these five datasets, we now have a robust dataset that combines customer, restaurant, and order data. This data allows us to perform detailed analyses, uncover insights, and make data-driven business decisions.\n",
        "\n",
        "\n",
        "\n",
        "## Project Aim and Objectives (5 marks)\n",
        "\n",
        "The project focuses on a comprehensive analysis of the Indian food delivery services market, aiming to uncover critical insights into customer behaviour, restaurant performance, and evolving market trends. With the rapid growth of food delivery services, particularly due to technological advancements and the proliferation of smartphones, understanding these dynamics has become increasingly vital for businesses in this sector.\n",
        "\n",
        "One of the primary objectives of this study is to delve into customer demographics. By analysing variables such as age, income level, and geographic location, the project will identify how different population segments engage with food delivery services. Furthermore, it will explore order patterns and preferences regarding cuisines, highlighting favourites among consumers and the factors that influence their choices. This includes examining feedback and ratings provided by customers, which can reveal the drivers of satisfaction and loyalty in a highly competitive market.\n",
        "\n",
        "In parallel, the project will evaluate restaurant performance using various metrics such as order volume and revenue generation. This assessment will help identify top-performing establishments and those in need of improvement. Understanding how restaurants respond to customer feedback is crucial for enhancing service quality and overall dining experience.\n",
        "\n",
        "Additionally, the study will analyse revenue trends, seeking emerging opportunities within the Indian food delivery landscape. A significant focus will be placed on major players in the industry, including Swiggy and Zomato, to understand how they adapt to ever-changing market demands. Insights into pricing strategies, delivery speed, and service quality will provide a clearer picture of consumer preferences and spending habits across different regions. Ultimately, the findings of this project will equip businesses with actionable insights to thrive in a dynamic marketplace.\n",
        "\n",
        "### Specific Objective(s)\n",
        "\n",
        "* __Objective 1:__ _Data Preprocessing and Simulation_\n",
        "* __Objective 2:__ _Customer Demographic Analysis of Food Delivery Apps_\n",
        "* __Objective 3:__ _Revenue Analysis of Food Delivery Apps_\n",
        "* __Objective 4:__ _Customer Feedback Analysis of Food Delivery Apps_\n",
        "\n",
        "\n",
        "## System Design (5 marks)\n",
        "\n",
        "\n",
        "### Architecture\n",
        "\n",
        "![image.png](data:image/png;base64,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)\n",
        "\n",
        "  \n",
        "In the system architecture we have 9 steps as described below:  \n",
        "\n",
        "1. Data Collection - The project begins with comprehensive data collection from Kaggle, leveraging five meticulously curated datasets to analyze the Indian Food Delivery Service landscape. These datasets encapsulate a broad spectrum of information including customer preferences, order details, restaurant data, delivery trends, and regional variations. This diverse data provides the foundation for robust and insightful analysis.\n",
        "\n",
        "2. Data Cleaning - To ensure the integrity and usability of the data, a rigorous data cleaning process is performed. This step includes addressing missing values, correcting inconsistent or erroneous data types, and removing outliers. The goal is to enhance data quality and ensure uniformity across all datasets.\n",
        "\n",
        "3. Column Selection - Relevant columns are carefully selected from each dataset, aligning with the project's objectives. This targeted approach ensures that the data used contains only the necessary and meaningful information, facilitating efficient analysis.\n",
        "\n",
        "4. Merge Datasets - Datasets are sequentially merged based on common attributes such as Order_Id, Restaurant_Name, and City. This process enriches the dataset by integrating complementary features from different sources, creating a cohesive and comprehensive dataset.\n",
        "\n",
        "5. Data Simulation - To address potential data gaps and improve model robustness:\n",
        "  * Synthetic Data Generation is employed, preserving the probability distribution of the original dataset to maintain data integrity.\n",
        "  * Data Augmentation Techniques are applied, enhancing data completeness and ensuring more accurate predictive modeling and analysis.\n",
        "\n",
        "6. Data Transformation - The dataset undergoes transformation through the application of various aggregation functions:\n",
        "\n",
        "  * sum(), max(), and min() to compute cumulative and extreme values.\n",
        "  * value_counts() for understanding frequency distributions.\n",
        "  * isna() to identify and quantify missing values.\n",
        "\n",
        "  These transformations are vital for summarizing the dataset, uncovering patterns, and deriving actionable insights.\n",
        "\n",
        "7. Dataset Successfully Prepared - The final merged and cleaned dataset is prepared for analysis. This step ensures the dataset is complete, consistent, and well-structured, serving as a reliable input for subsequent exploration and modeling.\n",
        "\n",
        "8. Exploratory Data Analysis (EDA) - Exploratory Data Analysis (EDA) is conducted to understand the dataset's characteristics and underlying patterns. This involves:\n",
        "\n",
        "  * Identifying trends, correlations, and anomalies within the data.\n",
        "  * Using statistical methods and visual techniques to uncover insights, laying the groundwork for advanced analysis.\n",
        "\n",
        "9. Data Visualization - Visualization tools are employed to present key insights gleaned from the data. A variety of graphical representations such as bar charts, pie charts and heatmaps are created. These visualizations enable stakeholders to intuitively understand the findings and make data-driven decisions.\n",
        "\n",
        "\n",
        "### Processing Modules and Algorithms\n",
        "\n",
        "1. Data Cleaning and Outlier Removal\n",
        "\n",
        "Objective: Ensure the dataset is free from inconsistencies and irrelevant entries.\n",
        "\n",
        "Components:\n",
        "* Pandas: Used for detecting and handling missing values (fillna() and dropna()), removing duplicates, and correcting data types.\n",
        "\n",
        "\n",
        "2. Data Integration and Merging\n",
        "\n",
        "Objective: Combine multiple datasets to create a unified and enriched dataset.\n",
        "\n",
        "Components:\n",
        "* Pandas Merge and Join Functions: Datasets are combined using common columns (e.g., Order_Id, Restaurant_Name, City) to ensure cohesion.\n",
        "* Handling Key Conflicts: Checks for duplicate keys and missing data during merging to maintain data integrity.\n",
        "\n",
        "3. Feature Engineering and Representation\n",
        "\n",
        "Objective: Transform raw data into meaningful features that are suitable for analysis and modeling.\n",
        "\n",
        "Components:\n",
        "* One-Hot Encoding (Pandas): Converts categorical data into numerical format for better compatibility with analysis models.\n",
        "* Data Normalization (NumPy): Scales numerical features to a standard range (e.g., 0 to 1) to eliminate bias caused by varying feature magnitudes.\n",
        "* Synthetic Data Generation: Applies probability distribution techniques to create additional samples, preserving original data patterns.\n",
        "\n",
        "4. Exploratory Data Analysis and Visualization\n",
        "\n",
        "Objective: Analyze data to uncover patterns, trends, and correlations, and present insights visually.\n",
        "\n",
        "Components:\n",
        "* Statistical Aggregation (Pandas): Functions like groupby() and value_counts() are used to derive summary statistics and distributions.\n",
        "* Visualization Libraries:\n",
        "  * Matplotlib and Seaborn: Used to create static visualizations like bar charts, heatmaps, and scatter plots.\n",
        "  * Plotly: Enables the creation of interactive and dynamic visualizations.\n",
        "\n",
        "5. Predictive Modeling and Analysis\n",
        "\n",
        "Objective: Leverage machine learning algorithms to derive predictive insights from the data.\n",
        "\n",
        "Components:\n",
        "* Regression Analysis (Scikit-Learn): Explores relationships between variables, such as delivery time and customer ratings."
      ]
    },
    {
      "cell_type": "markdown",
      "metadata": {
        "id": "q0usayw_tnSV"
      },
      "source": [
        "# Program Code (15 marks)\n",
        "\n",
        "_Your code should be divided into relatively short cells, with brief\n",
        "explanation in markup cells between._\n",
        "\n",
        "_As noted in the assigment overview, it is not necessary that your coding be\n",
        "super complex in order to get a good mark. Although there is a mark for\n",
        "the coding achievement, it is only a quarter of the total._\n",
        "\n",
        "_The suggested length of the code is about 150 lines for 1 person or 500\n",
        "for a 4 peope project. You should not use more than 500 lines of code._\n",
        "\n",
        "_You should divide the code in accordance with the specification of modules and/or\n",
        "algorithms you gave in the previous section. Complex modules should be further\n",
        "divided into several code cells._\n",
        "\n",
        "Please note the following about your code:\n",
        "* <b><i>You may import any packages/modules you wish to use for your project.</i></b>\n",
        "\n",
        "\n",
        "* <b><i>You should submit your notebook in a state where all cells have been\n",
        "    executed and are displaying the output that you wish to present for grading.</i></b>\n",
        "    (We will not normally run your code, unless for some reason we wish to check\n",
        "    that the code functionality matches the given description.)\n",
        "    \n",
        "    \n",
        "* Although you may be programming in a \"pipeline\" style, it is strongly suggested you use function definitions to organise your code. As well as being generally good programming practice, it will be helpful for easy and flexibily presentation of results visualisations later in the document. In the visualisation sections you will be able to produce images in a concise and flexible way by calling functions defined in the program code secion."
      ]
    },
    {
      "cell_type": "markdown",
      "metadata": {
        "id": "LvvC17GgtnSW"
      },
      "source": [
        "#### _Brief Explanation of following code cell_\n",
        "\n",
        "_Below is a silly example of some trivial data. Replace this markup cell and the one below with something more interesting. And go on adding more until you have\n",
        "achieved your objectives (at least to some extent)._"
      ]
    },
    {
      "cell_type": "code",
      "execution_count": null,
      "metadata": {
        "id": "dfU1k2TQtnSW",
        "outputId": "74e3f925-673c-4f97-8e6b-1bb1e90a5362"
      },
      "outputs": [
        {
          "name": "stdout",
          "output_type": "stream",
          "text": [
            "The total number of fridge magnets is: 66\n"
          ]
        }
      ],
      "source": [
        "## Code Cell\n",
        "## This will typically consist of:\n",
        "\n",
        "## (a) Code doing some data manipulation:\n",
        "\n",
        "fm_data = { \"souvenir\"     :  9,\n",
        "            \"cute animal\"  :  5,\n",
        "            \"meme\"         : 36,\n",
        "            \"smiley\"       :  3,\n",
        "            \"random image\" : 13\n",
        "          }\n",
        "total = sum([fm_data[f] for f in fm_data])\n",
        "\n",
        "## (b) Code for displaying some output:\n",
        "\n",
        "print(\"The total number of fridge magnets is:\", total)"
      ]
    },
    {
      "cell_type": "markdown",
      "metadata": {
        "id": "WTmIuCWjtnSY"
      },
      "source": [
        "#### _Comment on previous cell output (optional)_\n",
        "\n",
        "_As well as describing code, it will in many cases be informative to describe the output\n",
        "that has been generated by a cell._\n",
        "\n",
        "_The previous output cell shows a key number in our fridge magnet analysis._"
      ]
    },
    {
      "cell_type": "markdown",
      "metadata": {
        "id": "iqkQFRdrtnSZ"
      },
      "source": [
        "#### _Brief Explanation of following code cell_\n",
        "\n",
        "_Since fridge magnets often take the form of cute animals, we use `pandas` to convert the raw data into a `DataFrame`._"
      ]
    },
    {
      "cell_type": "code",
      "execution_count": null,
      "metadata": {
        "id": "mASMXpMytnSZ",
        "outputId": "540ed09a-841c-4b23-946a-b4691c68255c"
      },
      "outputs": [
        {
          "data": {
            "text/html": [
              "<div>\n",
              "<style scoped>\n",
              "    .dataframe tbody tr th:only-of-type {\n",
              "        vertical-align: middle;\n",
              "    }\n",
              "\n",
              "    .dataframe tbody tr th {\n",
              "        vertical-align: top;\n",
              "    }\n",
              "\n",
              "    .dataframe thead th {\n",
              "        text-align: right;\n",
              "    }\n",
              "</style>\n",
              "<table border=\"1\" class=\"dataframe\">\n",
              "  <thead>\n",
              "    <tr style=\"text-align: right;\">\n",
              "      <th></th>\n",
              "      <th>0</th>\n",
              "    </tr>\n",
              "  </thead>\n",
              "  <tbody>\n",
              "    <tr>\n",
              "      <th>souvenir</th>\n",
              "      <td>9</td>\n",
              "    </tr>\n",
              "    <tr>\n",
              "      <th>cute animal</th>\n",
              "      <td>5</td>\n",
              "    </tr>\n",
              "    <tr>\n",
              "      <th>meme</th>\n",
              "      <td>36</td>\n",
              "    </tr>\n",
              "    <tr>\n",
              "      <th>smiley</th>\n",
              "      <td>3</td>\n",
              "    </tr>\n",
              "    <tr>\n",
              "      <th>random image</th>\n",
              "      <td>13</td>\n",
              "    </tr>\n",
              "  </tbody>\n",
              "</table>\n",
              "</div>"
            ],
            "text/plain": [
              "               0\n",
              "souvenir       9\n",
              "cute animal    5\n",
              "meme          36\n",
              "smiley         3\n",
              "random image  13"
            ]
          },
          "execution_count": 30,
          "metadata": {},
          "output_type": "execute_result"
        }
      ],
      "source": [
        "## Code Cell\n",
        "import pandas\n",
        "df = pandas.DataFrame.from_dict(fm_data, orient='index')\n",
        "df"
      ]
    },
    {
      "cell_type": "markdown",
      "metadata": {
        "id": "2BZ8_H3ntnSZ"
      },
      "source": [
        "#### _Comment on previous cell output (optional)_\n",
        "_The output from the previous cell is very interesting._"
      ]
    },
    {
      "cell_type": "markdown",
      "metadata": {
        "id": "5JSGknTFtnSZ"
      },
      "source": [
        "_The following cell defines a visualisation function for the data._"
      ]
    },
    {
      "cell_type": "code",
      "execution_count": null,
      "metadata": {
        "id": "KiRHn6aQtnSa"
      },
      "outputs": [],
      "source": [
        "def fridge_sorted_bar(color='blue'):\n",
        "    df.sort_values(0).plot.bar( color=color)"
      ]
    },
    {
      "cell_type": "markdown",
      "metadata": {
        "id": "qZ0NLfsZtnSa"
      },
      "source": [
        "###  _More code cells_\n",
        "_You can add as many code cells as you require, but it is\n",
        "recommended that you break code into relatively small chunks and\n",
        "do not exceed the maximum number of lines stated above._"
      ]
    },
    {
      "cell_type": "markdown",
      "metadata": {
        "id": "iusKljLLtnSa"
      },
      "source": [
        "# Project Outcome (10 + 10 marks)\n",
        "\n",
        "_This section should describe the outcome of the project by means of both explanation of the results and by graphical visualisation in the form of graphs, charts or or other kinds of diagram_\n",
        "\n",
        "_The section should begin with a general overview of the results and then have a section for each of the project objectives. For each of these objectives an explanation of more specific results relating to that objective shoud be given, followed by a section presenting some visualisation of the results obtained. (In the case where\n",
        "the project had just one objective, you should still have a section describing\n",
        "the results from a general perspective followed by a section that focuses on\n",
        "the particular objective.)_\n",
        "\n",
        "_The marks for this section will be divided into 10 marks for Explanation\n",
        "and 10 marks for Visualisation. These marks will be awarded for the Project Outcome\n",
        "section as a whole, not for each objective individually. Hence, you do not\n",
        "have to pay equal attention to each. However, you are expected to have a\n",
        "some explanation and visualisation for each. It is suggested you have\n",
        "200-400 words explanation for each objective._"
      ]
    },
    {
      "cell_type": "markdown",
      "metadata": {
        "id": "jlQnBERttnSa"
      },
      "source": [
        "## Overview of Results\n",
        "_Give a general overview of the results (around 200 words)._\n",
        "\n",
        "obj 2 : Analyze variations in customer preferences for Swiggy and Zomato across top cities, segmented by income groups, age ranges (<25, 25–40, 40–60, 60+), gender, and marital status. This study aims to uncover demographic-driven patterns influencing platform choice and order preferences for targeted marketing and service optimization.\n",
        "\n",
        "obj 3: To analyze consumer preferences and behavior on Swiggy and Zomato platforms, focusing on city-wise distribution, meal type patterns, and popular cuisines, to evaluate market trends and identify key factors driving revenue generation and user engagement."
      ]
    },
    {
      "cell_type": "markdown",
      "metadata": {
        "id": "LUNjBuiutnSa"
      },
      "source": [
        "## Objective 1: Data Preprocessing and Simulation\n",
        "\n",
        "### Explanation of Results\n",
        "\n",
        "_200-400 words_\n",
        "\n",
        "### Visualisation\n",
        "_The following bar chart gives a vivid representation of the distribution\n",
        "of fridge magnet types, in which the dominance of 'meme' type magnets\n",
        "is dramatically illustrated._"
      ]
    },
    {
      "cell_type": "code",
      "execution_count": null,
      "metadata": {
        "id": "v6ySuz0ztnSa",
        "outputId": "f0f42e49-25a4-49d0-de8d-d154deb98542"
      },
      "outputs": [
        {
          "data": {
            "image/png": "[encoded data removed]",
            "text/plain": [
              "<Figure size 432x288 with 1 Axes>"
            ]
          },
          "metadata": {
            "needs_background": "light"
          },
          "output_type": "display_data"
        }
      ],
      "source": [
        "fridge_sorted_bar(color='red')"
      ]
    },
    {
      "cell_type": "markdown",
      "metadata": {
        "id": "eMIH4DM6tnSb"
      },
      "source": [
        "## Objective 2: Customer Demographic Analysis of Food Delivery Apps\n",
        "\n",
        "### Explanation of Results\n",
        "\n",
        "**1. How do age groups, gender, and marital status influence customers' order preferences between Swiggy and Zomato?**\n",
        "\n",
        "\n",
        "*Description of the Graph:*\n",
        "\n",
        "The bar chart represents the distribution of order preferences between Swiggy and Zomato based on the variables of age groups, gender, and marital status. Each cluster of bars corresponds to a specific age group (18–20, 21–30, 31–40, 41–50, 51–60), subdivided further by gender (Male/Female) and marital status (Single/Married/Prefer not to say). The darker shade (red) represents Zomato preferences, while the lighter shade (orange) indicates Swiggy preferences. Each bar is annotated with the percentage of customers favoring a specific app.\n",
        "\n",
        "* Key Insight:\n",
        "\n",
        "  Swiggy forms the base of each bar (lower section), while Zomato is the upper section. The larger size of Swiggy's base across most categories indicates that Swiggy is the preferred platform for orders.\n",
        "\n",
        "* Overall Insights\n",
        "\n",
        "  * Swiggy consistently leads in most age and gender categories, especially among younger and middle-aged groups (18-40 years).\n",
        "  * Zomato has competitive performance among older married individuals (51-60 years) and some smaller subcategories, such as those who \"prefer not to say\" within specific demographics.\n",
        "  * Single individuals, regardless of gender or age, lean heavily toward Swiggy, which may indicate stronger brand loyalty or appeal among this group.\n",
        "  * Married females across most age brackets show a closer split in preferences compared to other segments.\n",
        "\n",
        "\n",
        "* General Insights:\n",
        "\n",
        "  * Age Group Trends:\n",
        "\n",
        "    * Customers aged 21–30 exhibit the highest engagement across both platforms, suggesting this is the primary demographic for food delivery services.\n",
        "    * Older age groups (41–60) show lower order volumes, highlighting a diminishing preference for online food delivery as age increases.\n",
        "\n",
        "  * Gender and Marital Status Patterns:\n",
        "\n",
        "    * Male Singles consistently show the highest order preferences, particularly for Zomato, across all age groups. For instance, in the 21–30 age group, male singles contribute significantly, with Zomato preferred by 66.6%.\n",
        "    * Female Singles also prefer Zomato in most cases but exhibit a smaller difference between Zomato and Swiggy compared to their male counterparts.\n",
        "    * Married customers (both genders) show slightly reduced engagement compared to singles but still lean towards Zomato.\n",
        "    * Customers who selected “Prefer not to say” generally have smaller contributions to the data pool, with Swiggy seeing a relatively higher proportion in this category.\n",
        "\n",
        "* Specific Observations:\n",
        "  * Age Group 18-20 : Swiggy is the preferred platform for all subcategories. Single females and single males show almost equal preference percentages for Swiggy (52.47% and 53.59%, respectively). Zomato follows closely. Among those who \"prefer not to say,\" males (56.41%) lean toward Swiggy more than females (52.99%). Married individuals in this age group also prefer Swiggy, with males (54.22%) slightly outpacing females (54.96%).\n",
        "  * Age Group 21-30 : This is the largest contributing age group, with Swiggy consistently leading across subcategories. Single females (52.25%) and single males (53.40%) show a stronger preference for Swiggy than married individuals. Those who \"prefer not to say\" are notably inclined toward Swiggy, with females at 55.74% and males at 54.54%. Married females are almost evenly split between Swiggy (51.82%) and Zomato (48.18%), indicating Zomato is more competitive here.\n",
        "  * Age Group 31-40 : Swiggy continues to dominate in most subcategories, except for males who \"prefer not to say\", where Zomato slightly overtakes (54.22%). Among single and married individuals, both genders show steady preferences for Swiggy, typically above 53%. Females in the \"prefer not to say\" group exhibit the closest margin (Swiggy: 50.73%, Zomato: 49.27%).\n",
        "  * Age Group 41-50 : Swiggy maintains its lead, particularly among males who \"prefer not to say\" (60.22%) and single females (54.42%). Zomato performs relatively better among married females (48.22%) but still lags behind. The preference gap widens slightly in favor of Swiggy as users express more flexibility in their marital status.\n",
        "  * Age Group 51-60 : A few exceptions emerge where Zomato surpasses Swiggy: Married males prefer Zomato (60.00%) over Swiggy (40.00%). Females who \"prefer not to say\" also favor Zomato (66.67%). Despite these exceptions, Swiggy dominates other subcategories, such as single females (59.76%) and males who \"prefer not to say\" (66.67%).\n",
        "\n",
        "\n",
        "* Recommendations\n",
        "  * Zomato should focus on marketing efforts on older age groups (51-60) and married individuals, where its performance is relatively stronger. Target campaigns toward females who \"prefer not to say\" across age categories, leveraging its competitive percentages. Address gaps in younger segments (18-40), especially among singles, to capture more market share.\n",
        "  * Swiggy, on the other hand, should continue leveraging its broad appeal among younger and single demographics to solidify its dominance.\n",
        "\n",
        "\n",
        "\n",
        "### Visualisation"
      ]
    },
    {
      "cell_type": "markdown",
      "source": [
        "### Explanation of Results\n",
        "\n",
        "**2. How do customer app preferences (Swiggy vs. Zomato) vary across the top 10 cities, segmented by income groups and age ranges (<25, 25–40, 40–60, 60+)?**\n",
        "\n",
        "\n",
        "*Description of the heatmaps:*\n",
        "\n",
        "* Swiggy Preferences (First Heatmap)\n",
        "\n",
        "  The Swiggy heatmap illustrates the number of Swiggy orders distributed across combinations of age groups, income ranges, and top 10 cities.\n",
        "\n",
        "  * General Observations:\n",
        "\n",
        "    * The highest preference for Swiggy is observed among 25–40-year-olds with No Income, especially in Bengaluru, followed by cities like Chennai and Hyderabad.\n",
        "    * Across all cities, younger customers (<25 and 25–40) contribute significantly to Swiggy orders, irrespective of their income levels.\n",
        "    * Customers in the 40–60 age range and above demonstrate reduced Swiggy usage across all cities and income levels, though Bengaluru and Hyderabad maintain a relatively stronger presence.\n",
        "\n",
        "  * City-Specific Insights:\n",
        "\n",
        "    * Bengaluru: Swiggy is the most popular in this city across all demographics, with the maximum number of orders coming from 25–40-year-olds with No Income.\n",
        "    * Chennai and Hyderabad: These cities follow Bengaluru in Swiggy orders, with stronger participation from the No Income and <25 income groups (Below Rs. 10,000).\n",
        "    * Delhi, Mumbai, and Kolkata: Moderate Swiggy usage is seen in these cities, with lower-income groups in the 25–40 range leading the preference.\n",
        "    * Ahmedabad and Pune: Swiggy usage is relatively low in these cities, across all age and income groups.\n",
        "\n",
        "  * Age and Income Trends:\n",
        "\n",
        "    * No Income (Across Age Groups): This segment has the highest Swiggy preference, particularly among younger customers (25–40 years old).\n",
        "    * Higher Income Groups (Above Rs. 50,000): Swiggy usage drops significantly among higher income groups, regardless of age or city, except in Bengaluru.\n",
        "\n",
        "\n",
        "* Zomato Preferences (Second Heatmap)\n",
        "\n",
        "  The Zomato heatmap displays the number of Zomato orders across similar dimensions: age groups, income ranges, and top 10 cities.\n",
        "\n",
        "  * General Observations:\n",
        "\n",
        "    * Zomato also shows its strongest preference among 25–40-year-olds with No Income, with Bengaluru being the leading city.\n",
        "    * Zomato usage is slightly lower than Swiggy for <25-year-olds, but it dominates in certain cities for higher income groups.\n",
        "    * Orders from the 40–60 and 60+ age groups are sparse, similar to Swiggy.\n",
        "\n",
        "  * City-Specific Insights:\n",
        "\n",
        "    * Bengaluru: Zomato is most popular here, particularly among 25–40-year-olds with No Income and Rs. 25,001–50,000 income group.\n",
        "    * Chennai, Hyderabad, and Kolkata: These cities also show strong Zomato preference, especially among the No Income group and lower income brackets (<Rs. 25,000).\n",
        "    * Delhi and Mumbai: Usage is moderate for Zomato, similar to Swiggy, with orders concentrated in the 25–40 range and lower income categories.\n",
        "    * Ahmedabad and Pune: These cities report comparatively fewer orders on Zomato, with limited variation across demographics.\n",
        "\n",
        "  * Age and Income Trends:\n",
        "\n",
        "    * No Income (Across Age Groups): Zomato’s strongest preference comes from this group, particularly among 25–40-year-olds.\n",
        "    * Middle Income Groups (Rs. 10,001–50,000): Zomato performs slightly better than Swiggy among this demographic, especially in cities like Kolkata and Hyderabad.\n",
        "    * Higher Income Groups (Above Rs. 50,000): Similar to Swiggy, Zomato usage decreases significantly in this category, with Bengaluru being an exception.\n",
        "\n",
        "* Comparison of Swiggy and Zomato Preferences\n",
        "\n",
        "  * Overall Strengths:\n",
        "\n",
        "    * Both platforms dominate among 25–40-year-olds with No Income, with Swiggy slightly leading in cities like Bengaluru and Chennai.\n",
        "    * Zomato is relatively more balanced across middle income groups in certain cities like Kolkata and Hyderabad.\n",
        "\n",
        "  * City-Specific Dominance:\n",
        "\n",
        "    * Swiggy: Leads in Bengaluru, Chennai, and Hyderabad across most age and income groups.\n",
        "    * Zomato: Strong in Bengaluru but slightly more competitive in Kolkata and Delhi for middle-income users.\n",
        "  \n",
        "  * Age and Income Trends:\n",
        "\n",
        "    * Both platforms have reduced participation from older age groups (>40).\n",
        "    * No Income customers dominate usage for both apps, followed by lower income groups. Higher income customers are less likely to use these services.\n",
        "\n",
        "\n",
        "\n",
        "\n",
        "### Visualisation"
      ],
      "metadata": {
        "id": "A1LCPCT__sMJ"
      }
    },
    {
      "cell_type": "markdown",
      "metadata": {
        "id": "AKzFgp3YtnSb"
      },
      "source": [
        "## Objective 3: Revenue Analysis of Food Delivery Apps\n",
        "\n",
        "### Explanation of Results\n",
        "\n",
        "**How do Swiggy and Zomato compare in terms of user preferences across cities, meal types, and popular cuisines, and how does this influence revenue distribution?**\n",
        "\n",
        "*Description of the graph:*\n",
        "\n",
        "The analysis explores user behavior for Swiggy and Zomato across three dimensions: city-wise preferences, meal type distribution in the top city, and popular cuisines for the top ordered meal-type. The comparison also highlights how these preferences impact revenue distribution between the platforms.\n",
        "\n",
        "* Revenue by Order Preference:\n",
        "\n",
        "  The pie chart in the bottom-left corner indicates that Swiggy has a slight edge in revenue share at 53.1%, compared to Zomato's 46.9%. This difference suggests a competitive market but with Swiggy having a marginal advantage in overall user preference or order volume.\n",
        "\n",
        "* City Breakdown:\n",
        "\n",
        "  Both Swiggy and Zomato demonstrate similar user distributions across cities. The bar charts for city breakdowns reveal:\n",
        "\n",
        "  * Bengaluru dominates with 48.3% (Swiggy) and 46.0% (Zomato).\n",
        "  * Chennai, Hyderabad, and Delhi collectively make up a smaller share, with Others contributing a substantial 39%. This indicates that beyond major metros, both platforms rely significantly on users from other cities.\n",
        "\n",
        "* Meal Breakdown in Bengaluru:\n",
        "  \n",
        "  Focusing on Bengaluru, which is the top city contributing to the revenue, the meal type distribution is remarkably consistent for both platforms:\n",
        "\n",
        "  * Lunch and snacks dominate, with lunch accounting for ~30% and snacks ~32% of orders.\n",
        "  * Dinner makes up ~23%, while breakfast contributes the least, around 14% (Swiggy) and 13.8% (Zomato). The similar patterns suggest comparable consumer habits in the city.\n",
        "\n",
        "* Top 2 Cuisines by Meal Type:\n",
        "  Both Swiggy and Zomato show a clear preference for North Indian cuisine across all meal types, comprising over 75% of the orders. Chinese cuisine remains a secondary choice, contributing 24%–28% depending on the meal type. These trends demonstrate the dominance of North Indian dishes as the primary choice regardless of time of day.\n",
        "\n",
        "\n",
        "Conclusion:\n",
        "\n",
        "* The graphs demonstrate strong overlaps in consumer preferences between the two platforms.\n",
        "\n",
        "* The pie chart communicates revenue shares succinctly.\n",
        "\n",
        "* Stacked bar charts for city and meal breakdowns highlight regional and temporal preferences.\n",
        "\n",
        "* Side-by-side comparisons of popular cuisines underscore consistency in food choices, reinforcing the homogeneity of user behavior between the platforms.\n",
        "\n",
        "* These insights provide a comprehensive understanding of consumer patterns and help outline key focus areas for improving market strategies and user engagement.\n",
        "\n",
        "\n",
        "### Visualisation"
      ]
    },
    {
      "cell_type": "markdown",
      "metadata": {
        "id": "M9Jc8RM1tnSb"
      },
      "source": [
        "## Objective 4: Customer Feedback Analysis of Food Delivery Apps\n",
        "### Explanation of Results\n",
        "\n",
        "200-400 Words\n",
        "\n",
        "### Visualisation"
      ]
    },
    {
      "cell_type": "markdown",
      "metadata": {
        "id": "w8TVjbmvtnSb"
      },
      "source": [
        "# Conclusion (5 marks)\n",
        "\n",
        "_Your concluding section should be around 200-400 words. It is recommended\n",
        "that you divide it into the following sections._\n",
        "\n",
        "### Achievements\n",
        "_As we had expected, the most popular fridge magnets were of the 'meme' kind.\n",
        "We were surprised that 'smiley' fridge magnets were less common than expected.\n",
        "We conjecture that this is because, although they are apparently very popular,\n",
        "few fridges display more than one smiley. However, 'meme' based magnets can\n",
        "be found in large numbers, even on quite small fridges._\n",
        "\n",
        "### Limitations\n",
        "\n",
        "_The project was limited to a small number of fridge magents, which may not be\n",
        "typical of fridges found in the global fridge magnet ecosystem._\n",
        "\n",
        "### Future Work\n",
        "\n",
        "_In future work we would like to obtain more diverse data and study fridge magnets\n",
        "beyond the limited confines of student accomodation. We hypothesise that there\n",
        "could be a link between fridge magnet types and social class and/or educational\n",
        "achievement._"
      ]
    }
  ],
  "metadata": {
    "kernelspec": {
      "display_name": "Python 3 (ipykernel)",
      "language": "python",
      "name": "python3"
    },
    "language_info": {
      "codemirror_mode": {
        "name": "ipython",
        "version": 3
      },
      "file_extension": ".py",
      "mimetype": "text/x-python",
      "name": "python",
      "nbconvert_exporter": "python",
      "pygments_lexer": "ipython3",
      "version": "3.9.12"
    },
    "colab": {
      "provenance": []
    }
  },
  "nbformat": 4,
  "nbformat_minor": 0
}